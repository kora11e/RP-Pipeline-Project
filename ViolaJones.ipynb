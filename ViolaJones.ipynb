{
 "cells": [
  {
   "cell_type": "code",
   "execution_count": 31,
   "id": "2b9d8f43",
   "metadata": {},
   "outputs": [],
   "source": [
    "import sys\n",
    "sys.path.append(\"src\")\n",
    "import numpy as np\n",
    "import matplotlib.pyplot as plt\n",
    "from glob import glob\n",
    "from PIL import Image\n",
    "from src.integral_image import compute_integral_image\n",
    "from src.haar_feature import HaarFeature\n",
    "from src.weak_classifier import WeakClassifier\n",
    "from src.adaboost import AdaBoost\n",
    "from src.generate_features import generate_features\n",
    "\n"
   ]
  },
  {
   "cell_type": "code",
   "execution_count": 32,
   "id": "9ffa2412",
   "metadata": {},
   "outputs": [],
   "source": [
    "face_paths = glob(\"data/face/*.pgm\")\n",
    "faces = []\n",
    "\n",
    "for path in face_paths:\n",
    "    img = Image.open(path).convert('L')    \n",
    "    img_array = np.array(img)            \n",
    "    integral = compute_integral_image(img_array)\n",
    "    faces.append(integral)\n",
    "\n",
    "nonface_paths = glob(\"data/non-face/*.pgm\")\n",
    "nonfaces = []\n",
    "\n",
    "for path in nonface_paths:\n",
    "    img = Image.open(path).convert('L')\n",
    "    img_array = np.array(img)\n",
    "    integral = compute_integral_image(img_array)\n",
    "    nonfaces.append(integral)\n",
    "\n",
    "X = faces + nonfaces\n",
    "y = np.array([1] * len(faces) + [0] * len(nonfaces))\n"
   ]
  },
  {
   "cell_type": "code",
   "execution_count": 33,
   "id": "812b9a65",
   "metadata": {},
   "outputs": [],
   "source": [
    "X_small = X[:200]\n",
    "y_small = y[:200]"
   ]
  },
  {
   "cell_type": "code",
   "execution_count": 34,
   "id": "9b4297bd",
   "metadata": {},
   "outputs": [
    {
     "name": "stdout",
     "output_type": "stream",
     "text": [
      "Liczba cech: 1278000\n"
     ]
    }
   ],
   "source": [
    "features = generate_features()\n",
    "print(\"Liczba cech:\", len(features))"
   ]
  },
  {
   "cell_type": "code",
   "execution_count": 35,
   "id": "f734e0d2",
   "metadata": {},
   "outputs": [],
   "source": [
    "import random\n",
    "\n",
    "features_all = generate_features()\n",
    "features = random.sample(features_all, 500)\n"
   ]
  },
  {
   "cell_type": "code",
   "execution_count": 36,
   "id": "7a6df2ab",
   "metadata": {},
   "outputs": [
    {
     "ename": "IndexError",
     "evalue": "index 26 is out of bounds for axis 1 with size 24",
     "output_type": "error",
     "traceback": [
      "\u001b[1;31m---------------------------------------------------------------------------\u001b[0m",
      "\u001b[1;31mIndexError\u001b[0m                                Traceback (most recent call last)",
      "Cell \u001b[1;32mIn[36], line 2\u001b[0m\n\u001b[0;32m      1\u001b[0m model \u001b[38;5;241m=\u001b[39m AdaBoost(num_classifiers\u001b[38;5;241m=\u001b[39m\u001b[38;5;241m5\u001b[39m)\n\u001b[1;32m----> 2\u001b[0m \u001b[43mmodel\u001b[49m\u001b[38;5;241;43m.\u001b[39;49m\u001b[43mtrain\u001b[49m\u001b[43m(\u001b[49m\u001b[43mX\u001b[49m\u001b[43m,\u001b[49m\u001b[43m \u001b[49m\u001b[43my\u001b[49m\u001b[43m,\u001b[49m\u001b[43m \u001b[49m\u001b[43mfeatures\u001b[49m\u001b[43m)\u001b[49m\n",
      "File \u001b[1;32mc:\\Users\\jsmig\\OneDrive\\Desktop\\RR_project\\RP-Pipeline-Project\\src\\adaboost.py:22\u001b[0m, in \u001b[0;36mAdaBoost.train\u001b[1;34m(self, training_data, labels, features)\u001b[0m\n\u001b[0;32m     20\u001b[0m \u001b[38;5;28;01mfor\u001b[39;00m polarity \u001b[38;5;129;01min\u001b[39;00m [\u001b[38;5;241m1\u001b[39m, \u001b[38;5;241m-\u001b[39m\u001b[38;5;241m1\u001b[39m]:\n\u001b[0;32m     21\u001b[0m     classifier \u001b[38;5;241m=\u001b[39m WeakClassifier(feature, threshold, polarity)\n\u001b[1;32m---> 22\u001b[0m     predictions \u001b[38;5;241m=\u001b[39m np\u001b[38;5;241m.\u001b[39marray([classifier\u001b[38;5;241m.\u001b[39mpredict(img) \u001b[38;5;28;01mfor\u001b[39;00m img \u001b[38;5;129;01min\u001b[39;00m training_data])\n\u001b[0;32m     23\u001b[0m     error \u001b[38;5;241m=\u001b[39m np\u001b[38;5;241m.\u001b[39msum(weights \u001b[38;5;241m*\u001b[39m (predictions \u001b[38;5;241m!=\u001b[39m labels))\n\u001b[0;32m     25\u001b[0m     \u001b[38;5;28;01mif\u001b[39;00m error \u001b[38;5;241m<\u001b[39m best_error:\n",
      "File \u001b[1;32mc:\\Users\\jsmig\\OneDrive\\Desktop\\RR_project\\RP-Pipeline-Project\\src\\adaboost.py:22\u001b[0m, in \u001b[0;36m<listcomp>\u001b[1;34m(.0)\u001b[0m\n\u001b[0;32m     20\u001b[0m \u001b[38;5;28;01mfor\u001b[39;00m polarity \u001b[38;5;129;01min\u001b[39;00m [\u001b[38;5;241m1\u001b[39m, \u001b[38;5;241m-\u001b[39m\u001b[38;5;241m1\u001b[39m]:\n\u001b[0;32m     21\u001b[0m     classifier \u001b[38;5;241m=\u001b[39m WeakClassifier(feature, threshold, polarity)\n\u001b[1;32m---> 22\u001b[0m     predictions \u001b[38;5;241m=\u001b[39m np\u001b[38;5;241m.\u001b[39marray([\u001b[43mclassifier\u001b[49m\u001b[38;5;241;43m.\u001b[39;49m\u001b[43mpredict\u001b[49m\u001b[43m(\u001b[49m\u001b[43mimg\u001b[49m\u001b[43m)\u001b[49m \u001b[38;5;28;01mfor\u001b[39;00m img \u001b[38;5;129;01min\u001b[39;00m training_data])\n\u001b[0;32m     23\u001b[0m     error \u001b[38;5;241m=\u001b[39m np\u001b[38;5;241m.\u001b[39msum(weights \u001b[38;5;241m*\u001b[39m (predictions \u001b[38;5;241m!=\u001b[39m labels))\n\u001b[0;32m     25\u001b[0m     \u001b[38;5;28;01mif\u001b[39;00m error \u001b[38;5;241m<\u001b[39m best_error:\n",
      "File \u001b[1;32mc:\\Users\\jsmig\\OneDrive\\Desktop\\RR_project\\RP-Pipeline-Project\\src\\weak_classifier.py:8\u001b[0m, in \u001b[0;36mWeakClassifier.predict\u001b[1;34m(self, integral_img)\u001b[0m\n\u001b[0;32m      7\u001b[0m \u001b[38;5;28;01mdef\u001b[39;00m \u001b[38;5;21mpredict\u001b[39m(\u001b[38;5;28mself\u001b[39m, integral_img):\n\u001b[1;32m----> 8\u001b[0m     feature_value \u001b[38;5;241m=\u001b[39m \u001b[38;5;28;43mself\u001b[39;49m\u001b[38;5;241;43m.\u001b[39;49m\u001b[43mfeature\u001b[49m\u001b[38;5;241;43m.\u001b[39;49m\u001b[43mcompute_value\u001b[49m\u001b[43m(\u001b[49m\u001b[43mintegral_img\u001b[49m\u001b[43m)\u001b[49m\n\u001b[0;32m      9\u001b[0m     \u001b[38;5;28;01mreturn\u001b[39;00m \u001b[38;5;241m1\u001b[39m \u001b[38;5;28;01mif\u001b[39;00m \u001b[38;5;28mself\u001b[39m\u001b[38;5;241m.\u001b[39mpolarity \u001b[38;5;241m*\u001b[39m feature_value \u001b[38;5;241m<\u001b[39m \u001b[38;5;28mself\u001b[39m\u001b[38;5;241m.\u001b[39mpolarity \u001b[38;5;241m*\u001b[39m \u001b[38;5;28mself\u001b[39m\u001b[38;5;241m.\u001b[39mthreshold \u001b[38;5;28;01melse\u001b[39;00m \u001b[38;5;241m0\u001b[39m\n",
      "File \u001b[1;32mc:\\Users\\jsmig\\OneDrive\\Desktop\\RR_project\\RP-Pipeline-Project\\src\\haar_feature.py:14\u001b[0m, in \u001b[0;36mHaarFeature.compute_value\u001b[1;34m(self, integral_img)\u001b[0m\n\u001b[0;32m     12\u001b[0m \u001b[38;5;28;01mif\u001b[39;00m \u001b[38;5;28mself\u001b[39m\u001b[38;5;241m.\u001b[39mfeature_type \u001b[38;5;241m==\u001b[39m \u001b[38;5;124m'\u001b[39m\u001b[38;5;124mtwo-rectangle-horizontal\u001b[39m\u001b[38;5;124m'\u001b[39m:\n\u001b[0;32m     13\u001b[0m     A \u001b[38;5;241m=\u001b[39m \u001b[38;5;28mself\u001b[39m\u001b[38;5;241m.\u001b[39msum_region(integral_img, x, y, w \u001b[38;5;241m/\u001b[39m\u001b[38;5;241m/\u001b[39m \u001b[38;5;241m2\u001b[39m, h)\n\u001b[1;32m---> 14\u001b[0m     B \u001b[38;5;241m=\u001b[39m \u001b[38;5;28;43mself\u001b[39;49m\u001b[38;5;241;43m.\u001b[39;49m\u001b[43msum_region\u001b[49m\u001b[43m(\u001b[49m\u001b[43mintegral_img\u001b[49m\u001b[43m,\u001b[49m\u001b[43m \u001b[49m\u001b[43mx\u001b[49m\u001b[43m \u001b[49m\u001b[38;5;241;43m+\u001b[39;49m\u001b[43m \u001b[49m\u001b[43mw\u001b[49m\u001b[43m \u001b[49m\u001b[38;5;241;43m/\u001b[39;49m\u001b[38;5;241;43m/\u001b[39;49m\u001b[43m \u001b[49m\u001b[38;5;241;43m2\u001b[39;49m\u001b[43m,\u001b[49m\u001b[43m \u001b[49m\u001b[43my\u001b[49m\u001b[43m,\u001b[49m\u001b[43m \u001b[49m\u001b[43mw\u001b[49m\u001b[43m \u001b[49m\u001b[38;5;241;43m/\u001b[39;49m\u001b[38;5;241;43m/\u001b[39;49m\u001b[43m \u001b[49m\u001b[38;5;241;43m2\u001b[39;49m\u001b[43m,\u001b[49m\u001b[43m \u001b[49m\u001b[43mh\u001b[49m\u001b[43m)\u001b[49m\n\u001b[0;32m     15\u001b[0m     \u001b[38;5;28;01mreturn\u001b[39;00m A \u001b[38;5;241m-\u001b[39m B\n\u001b[0;32m     16\u001b[0m \u001b[38;5;28;01melif\u001b[39;00m \u001b[38;5;28mself\u001b[39m\u001b[38;5;241m.\u001b[39mfeature_type \u001b[38;5;241m==\u001b[39m \u001b[38;5;124m'\u001b[39m\u001b[38;5;124mtwo-rectangle-vertical\u001b[39m\u001b[38;5;124m'\u001b[39m:\n",
      "File \u001b[1;32mc:\\Users\\jsmig\\OneDrive\\Desktop\\RR_project\\RP-Pipeline-Project\\src\\haar_feature.py:41\u001b[0m, in \u001b[0;36mHaarFeature.sum_region\u001b[1;34m(self, integral_img, x, y, w, h)\u001b[0m\n\u001b[0;32m     39\u001b[0m \u001b[38;5;28;01mdef\u001b[39;00m \u001b[38;5;21msum_region\u001b[39m(\u001b[38;5;28mself\u001b[39m, integral_img, x, y, w, h):\n\u001b[0;32m     40\u001b[0m     A \u001b[38;5;241m=\u001b[39m integral_img[y\u001b[38;5;241m-\u001b[39m\u001b[38;5;241m1\u001b[39m, x\u001b[38;5;241m-\u001b[39m\u001b[38;5;241m1\u001b[39m] \u001b[38;5;28;01mif\u001b[39;00m y \u001b[38;5;241m>\u001b[39m \u001b[38;5;241m0\u001b[39m \u001b[38;5;129;01mand\u001b[39;00m x \u001b[38;5;241m>\u001b[39m \u001b[38;5;241m0\u001b[39m \u001b[38;5;28;01melse\u001b[39;00m \u001b[38;5;241m0\u001b[39m\n\u001b[1;32m---> 41\u001b[0m     B \u001b[38;5;241m=\u001b[39m \u001b[43mintegral_img\u001b[49m\u001b[43m[\u001b[49m\u001b[43my\u001b[49m\u001b[38;5;241;43m-\u001b[39;49m\u001b[38;5;241;43m1\u001b[39;49m\u001b[43m,\u001b[49m\u001b[43m \u001b[49m\u001b[43mx\u001b[49m\u001b[38;5;241;43m+\u001b[39;49m\u001b[43mw\u001b[49m\u001b[38;5;241;43m-\u001b[39;49m\u001b[38;5;241;43m1\u001b[39;49m\u001b[43m]\u001b[49m \u001b[38;5;28;01mif\u001b[39;00m y \u001b[38;5;241m>\u001b[39m \u001b[38;5;241m0\u001b[39m \u001b[38;5;28;01melse\u001b[39;00m \u001b[38;5;241m0\u001b[39m\n\u001b[0;32m     42\u001b[0m     C \u001b[38;5;241m=\u001b[39m integral_img[y\u001b[38;5;241m+\u001b[39mh\u001b[38;5;241m-\u001b[39m\u001b[38;5;241m1\u001b[39m, x\u001b[38;5;241m-\u001b[39m\u001b[38;5;241m1\u001b[39m] \u001b[38;5;28;01mif\u001b[39;00m x \u001b[38;5;241m>\u001b[39m \u001b[38;5;241m0\u001b[39m \u001b[38;5;28;01melse\u001b[39;00m \u001b[38;5;241m0\u001b[39m\n\u001b[0;32m     43\u001b[0m     D \u001b[38;5;241m=\u001b[39m integral_img[y\u001b[38;5;241m+\u001b[39mh\u001b[38;5;241m-\u001b[39m\u001b[38;5;241m1\u001b[39m, x\u001b[38;5;241m+\u001b[39mw\u001b[38;5;241m-\u001b[39m\u001b[38;5;241m1\u001b[39m]\n",
      "\u001b[1;31mIndexError\u001b[0m: index 26 is out of bounds for axis 1 with size 24"
     ]
    }
   ],
   "source": [
    "model = AdaBoost(num_classifiers=5)\n",
    "model.train(X, y, features)\n"
   ]
  },
  {
   "cell_type": "code",
   "execution_count": null,
   "id": "f5c19a3f",
   "metadata": {},
   "outputs": [],
   "source": [
    "for i in range(5):\n",
    "    true_label = y[i]\n",
    "    pred = model.predict(X[i])\n",
    "    print(f\"Przykład {i}: Predykcja = {pred}, Etykieta = {true_label}\")"
   ]
  },
  {
   "cell_type": "code",
   "execution_count": null,
   "id": "3c4a40a9",
   "metadata": {},
   "outputs": [],
   "source": [
    "y_pred = model.predict_many(X)\n",
    "accuracy = np.mean(y_pred == y)\n",
    "print(f\"Skuteczność na zbiorze treningowym: {accuracy:.2f}\")"
   ]
  }
 ],
 "metadata": {
  "kernelspec": {
   "display_name": "base",
   "language": "python",
   "name": "python3"
  },
  "language_info": {
   "codemirror_mode": {
    "name": "ipython",
    "version": 3
   },
   "file_extension": ".py",
   "mimetype": "text/x-python",
   "name": "python",
   "nbconvert_exporter": "python",
   "pygments_lexer": "ipython3",
   "version": "3.10.16"
  }
 },
 "nbformat": 4,
 "nbformat_minor": 5
}
