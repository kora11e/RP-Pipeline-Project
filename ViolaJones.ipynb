{
 "cells": [
  {
   "cell_type": "markdown",
   "id": "99ee8c76",
   "metadata": {},
   "source": [
<<<<<<< HEAD
    "<h1>Final implementation of feature capture technique with adaboost and haar feature algorithm</h1>\n",
    "\n",
    "<h3>Original paper \"Robust Real-Time Face Detection\" by P. Viola and M. Jones</h3>"
=======
    "<h1>Implementation of feature capture technique with adaboost and haar feature algorithm for face detection</h1>\n",
    "\n",
    "<h3>Original paper \"Robust Real-Time Face Detection\" by P. Viola and M. Jones</h3>\n",
    "\n",
    "The article \"Robust Real-Time Face Detection\" by Paul Viola and Michael Jones presents a highly efficient framework for detecting faces in images, notable for its speed and accuracy. The system introduces three key innovations: the use of an \"integral image\" representation that allows rapid computation of Haar-like features; a feature selection and classification method based on the AdaBoost algorithm, which identifies a small, effective subset of features from a massive pool; and a cascade structure of classifiers that enables the detector to quickly reject non-face regions and focus computational resources on likely face candidates. This architecture allows the system to process images at around 15 frames per second on standard hardware, making it significantly faster than previous approaches such as those by Rowley et al. or Schneiderman and Kanade. Trained on nearly 5,000 labeled face images, the 38-layer cascade evaluates over 6,000 features but typically uses only 8 per sub-window due to early-stage rejection. Experimental results on the MIT + CMU dataset demonstrate detection rates as high as 94.1% with low false positives, further improved by a simple ensemble voting strategy. While the detector performs well in a range of real-world conditions, it struggles with rotated or occluded faces and extreme lighting. Its speed and simplicity make it suitable for real-time applications in user interfaces, surveillance, and mobile or embedded devices."
>>>>>>> origin
   ]
  },
  {
   "cell_type": "markdown",
   "id": "23c36501",
   "metadata": {},
   "source": [
    "<h3>Library import</h3>"
   ]
  },
  {
   "cell_type": "code",
   "execution_count": 1,
   "id": "2b9d8f43",
   "metadata": {},
<<<<<<< HEAD
   "outputs": [
    {
     "name": "stderr",
     "output_type": "stream",
     "text": [
      "c:\\Users\\X\\AppData\\Local\\Programs\\Python\\Python311\\Lib\\site-packages\\matplotlib\\projections\\__init__.py:63: UserWarning: Unable to import Axes3D. This may be due to multiple versions of Matplotlib being installed (e.g. as a system package and as a pip package). As a result, the 3D projection is not available.\n",
      "  warnings.warn(\"Unable to import Axes3D. This may be due to multiple versions of \"\n"
     ]
    }
   ],
=======
   "outputs": [],
>>>>>>> origin
   "source": [
    "import sys\n",
    "sys.path.append(\"src\")\n",
    "import numpy as np\n",
    "import matplotlib.pyplot as plt\n",
    "from glob import glob\n",
    "from PIL import Image\n",
<<<<<<< HEAD
=======
    "\n",
    "#internal functions\n",
>>>>>>> origin
    "from src.integral_image import compute_integral_image\n",
    "from src.haar_feature import HaarFeature\n",
    "from src.weak_classifier import WeakClassifier\n",
    "from src.adaboost import AdaBoost\n",
    "from src.generate_features import generate_features\n",
    "\n"
   ]
  },
  {
<<<<<<< HEAD
   "cell_type": "code",
   "execution_count": 21,
=======
   "cell_type": "markdown",
   "id": "98f14566",
   "metadata": {},
   "source": [
    "<h2>Data Plot</h2>\n",
    "\n",
    "First we display two datasets used in order to conduct training process. Both datasets are groups of 24x24 images scaled down for performance purposes. One dataset contains data of different human faces, the other noisy pictures without specific pattern. Our goal is to implement the classifier able to differ faces from other objects."
   ]
  },
  {
   "cell_type": "code",
   "execution_count": 2,
>>>>>>> origin
   "id": "729b01f5",
   "metadata": {},
   "outputs": [
    {
<<<<<<< HEAD
     "ename": "TypeError",
     "evalue": "Image data of dtype object cannot be converted to float",
     "output_type": "error",
     "traceback": [
      "\u001b[31m---------------------------------------------------------------------------\u001b[39m",
      "\u001b[31mTypeError\u001b[39m                                 Traceback (most recent call last)",
      "\u001b[36mCell\u001b[39m\u001b[36m \u001b[39m\u001b[32mIn[21]\u001b[39m\u001b[32m, line 11\u001b[39m\n\u001b[32m      9\u001b[39m     fig.add_subplot(rows, columns, i)\n\u001b[32m     10\u001b[39m     plt.axis(\u001b[33m'\u001b[39m\u001b[33moff\u001b[39m\u001b[33m'\u001b[39m)\n\u001b[32m---> \u001b[39m\u001b[32m11\u001b[39m     \u001b[43mplt\u001b[49m\u001b[43m.\u001b[49m\u001b[43mimshow\u001b[49m\u001b[43m(\u001b[49m\u001b[43mim\u001b[49m\u001b[43m)\u001b[49m\n\u001b[32m     13\u001b[39m plt.show()\n",
      "\u001b[36mFile \u001b[39m\u001b[32mc:\\Users\\X\\AppData\\Local\\Programs\\Python\\Python311\\Lib\\site-packages\\matplotlib\\pyplot.py:3601\u001b[39m, in \u001b[36mimshow\u001b[39m\u001b[34m(X, cmap, norm, aspect, interpolation, alpha, vmin, vmax, colorizer, origin, extent, interpolation_stage, filternorm, filterrad, resample, url, data, **kwargs)\u001b[39m\n\u001b[32m   3579\u001b[39m \u001b[38;5;129m@_copy_docstring_and_deprecators\u001b[39m(Axes.imshow)\n\u001b[32m   3580\u001b[39m \u001b[38;5;28;01mdef\u001b[39;00m\u001b[38;5;250m \u001b[39m\u001b[34mimshow\u001b[39m(\n\u001b[32m   3581\u001b[39m     X: ArrayLike | PIL.Image.Image,\n\u001b[32m   (...)\u001b[39m\u001b[32m   3599\u001b[39m     **kwargs,\n\u001b[32m   3600\u001b[39m ) -> AxesImage:\n\u001b[32m-> \u001b[39m\u001b[32m3601\u001b[39m     __ret = \u001b[43mgca\u001b[49m\u001b[43m(\u001b[49m\u001b[43m)\u001b[49m\u001b[43m.\u001b[49m\u001b[43mimshow\u001b[49m\u001b[43m(\u001b[49m\n\u001b[32m   3602\u001b[39m \u001b[43m        \u001b[49m\u001b[43mX\u001b[49m\u001b[43m,\u001b[49m\n\u001b[32m   3603\u001b[39m \u001b[43m        \u001b[49m\u001b[43mcmap\u001b[49m\u001b[43m=\u001b[49m\u001b[43mcmap\u001b[49m\u001b[43m,\u001b[49m\n\u001b[32m   3604\u001b[39m \u001b[43m        \u001b[49m\u001b[43mnorm\u001b[49m\u001b[43m=\u001b[49m\u001b[43mnorm\u001b[49m\u001b[43m,\u001b[49m\n\u001b[32m   3605\u001b[39m \u001b[43m        \u001b[49m\u001b[43maspect\u001b[49m\u001b[43m=\u001b[49m\u001b[43maspect\u001b[49m\u001b[43m,\u001b[49m\n\u001b[32m   3606\u001b[39m \u001b[43m        \u001b[49m\u001b[43minterpolation\u001b[49m\u001b[43m=\u001b[49m\u001b[43minterpolation\u001b[49m\u001b[43m,\u001b[49m\n\u001b[32m   3607\u001b[39m \u001b[43m        \u001b[49m\u001b[43malpha\u001b[49m\u001b[43m=\u001b[49m\u001b[43malpha\u001b[49m\u001b[43m,\u001b[49m\n\u001b[32m   3608\u001b[39m \u001b[43m        \u001b[49m\u001b[43mvmin\u001b[49m\u001b[43m=\u001b[49m\u001b[43mvmin\u001b[49m\u001b[43m,\u001b[49m\n\u001b[32m   3609\u001b[39m \u001b[43m        \u001b[49m\u001b[43mvmax\u001b[49m\u001b[43m=\u001b[49m\u001b[43mvmax\u001b[49m\u001b[43m,\u001b[49m\n\u001b[32m   3610\u001b[39m \u001b[43m        \u001b[49m\u001b[43mcolorizer\u001b[49m\u001b[43m=\u001b[49m\u001b[43mcolorizer\u001b[49m\u001b[43m,\u001b[49m\n\u001b[32m   3611\u001b[39m \u001b[43m        \u001b[49m\u001b[43morigin\u001b[49m\u001b[43m=\u001b[49m\u001b[43morigin\u001b[49m\u001b[43m,\u001b[49m\n\u001b[32m   3612\u001b[39m \u001b[43m        \u001b[49m\u001b[43mextent\u001b[49m\u001b[43m=\u001b[49m\u001b[43mextent\u001b[49m\u001b[43m,\u001b[49m\n\u001b[32m   3613\u001b[39m \u001b[43m        \u001b[49m\u001b[43minterpolation_stage\u001b[49m\u001b[43m=\u001b[49m\u001b[43minterpolation_stage\u001b[49m\u001b[43m,\u001b[49m\n\u001b[32m   3614\u001b[39m \u001b[43m        \u001b[49m\u001b[43mfilternorm\u001b[49m\u001b[43m=\u001b[49m\u001b[43mfilternorm\u001b[49m\u001b[43m,\u001b[49m\n\u001b[32m   3615\u001b[39m \u001b[43m        \u001b[49m\u001b[43mfilterrad\u001b[49m\u001b[43m=\u001b[49m\u001b[43mfilterrad\u001b[49m\u001b[43m,\u001b[49m\n\u001b[32m   3616\u001b[39m \u001b[43m        \u001b[49m\u001b[43mresample\u001b[49m\u001b[43m=\u001b[49m\u001b[43mresample\u001b[49m\u001b[43m,\u001b[49m\n\u001b[32m   3617\u001b[39m \u001b[43m        \u001b[49m\u001b[43murl\u001b[49m\u001b[43m=\u001b[49m\u001b[43murl\u001b[49m\u001b[43m,\u001b[49m\n\u001b[32m   3618\u001b[39m \u001b[43m        \u001b[49m\u001b[43m*\u001b[49m\u001b[43m*\u001b[49m\u001b[43m(\u001b[49m\u001b[43m{\u001b[49m\u001b[33;43m\"\u001b[39;49m\u001b[33;43mdata\u001b[39;49m\u001b[33;43m\"\u001b[39;49m\u001b[43m:\u001b[49m\u001b[43m \u001b[49m\u001b[43mdata\u001b[49m\u001b[43m}\u001b[49m\u001b[43m \u001b[49m\u001b[38;5;28;43;01mif\u001b[39;49;00m\u001b[43m \u001b[49m\u001b[43mdata\u001b[49m\u001b[43m \u001b[49m\u001b[38;5;129;43;01mis\u001b[39;49;00m\u001b[43m \u001b[49m\u001b[38;5;129;43;01mnot\u001b[39;49;00m\u001b[43m \u001b[49m\u001b[38;5;28;43;01mNone\u001b[39;49;00m\u001b[43m \u001b[49m\u001b[38;5;28;43;01melse\u001b[39;49;00m\u001b[43m \u001b[49m\u001b[43m{\u001b[49m\u001b[43m}\u001b[49m\u001b[43m)\u001b[49m\u001b[43m,\u001b[49m\n\u001b[32m   3619\u001b[39m \u001b[43m        \u001b[49m\u001b[43m*\u001b[49m\u001b[43m*\u001b[49m\u001b[43mkwargs\u001b[49m\u001b[43m,\u001b[49m\n\u001b[32m   3620\u001b[39m \u001b[43m    \u001b[49m\u001b[43m)\u001b[49m\n\u001b[32m   3621\u001b[39m     sci(__ret)\n\u001b[32m   3622\u001b[39m     \u001b[38;5;28;01mreturn\u001b[39;00m __ret\n",
      "\u001b[36mFile \u001b[39m\u001b[32mc:\\Users\\X\\AppData\\Local\\Programs\\Python\\Python311\\Lib\\site-packages\\matplotlib\\__init__.py:1521\u001b[39m, in \u001b[36m_preprocess_data.<locals>.inner\u001b[39m\u001b[34m(ax, data, *args, **kwargs)\u001b[39m\n\u001b[32m   1518\u001b[39m \u001b[38;5;129m@functools\u001b[39m.wraps(func)\n\u001b[32m   1519\u001b[39m \u001b[38;5;28;01mdef\u001b[39;00m\u001b[38;5;250m \u001b[39m\u001b[34minner\u001b[39m(ax, *args, data=\u001b[38;5;28;01mNone\u001b[39;00m, **kwargs):\n\u001b[32m   1520\u001b[39m     \u001b[38;5;28;01mif\u001b[39;00m data \u001b[38;5;129;01mis\u001b[39;00m \u001b[38;5;28;01mNone\u001b[39;00m:\n\u001b[32m-> \u001b[39m\u001b[32m1521\u001b[39m         \u001b[38;5;28;01mreturn\u001b[39;00m \u001b[43mfunc\u001b[49m\u001b[43m(\u001b[49m\n\u001b[32m   1522\u001b[39m \u001b[43m            \u001b[49m\u001b[43max\u001b[49m\u001b[43m,\u001b[49m\n\u001b[32m   1523\u001b[39m \u001b[43m            \u001b[49m\u001b[43m*\u001b[49m\u001b[38;5;28;43mmap\u001b[39;49m\u001b[43m(\u001b[49m\u001b[43mcbook\u001b[49m\u001b[43m.\u001b[49m\u001b[43msanitize_sequence\u001b[49m\u001b[43m,\u001b[49m\u001b[43m \u001b[49m\u001b[43margs\u001b[49m\u001b[43m)\u001b[49m\u001b[43m,\u001b[49m\n\u001b[32m   1524\u001b[39m \u001b[43m            \u001b[49m\u001b[43m*\u001b[49m\u001b[43m*\u001b[49m\u001b[43m{\u001b[49m\u001b[43mk\u001b[49m\u001b[43m:\u001b[49m\u001b[43m \u001b[49m\u001b[43mcbook\u001b[49m\u001b[43m.\u001b[49m\u001b[43msanitize_sequence\u001b[49m\u001b[43m(\u001b[49m\u001b[43mv\u001b[49m\u001b[43m)\u001b[49m\u001b[43m \u001b[49m\u001b[38;5;28;43;01mfor\u001b[39;49;00m\u001b[43m \u001b[49m\u001b[43mk\u001b[49m\u001b[43m,\u001b[49m\u001b[43m \u001b[49m\u001b[43mv\u001b[49m\u001b[43m \u001b[49m\u001b[38;5;129;43;01min\u001b[39;49;00m\u001b[43m \u001b[49m\u001b[43mkwargs\u001b[49m\u001b[43m.\u001b[49m\u001b[43mitems\u001b[49m\u001b[43m(\u001b[49m\u001b[43m)\u001b[49m\u001b[43m}\u001b[49m\u001b[43m)\u001b[49m\n\u001b[32m   1526\u001b[39m     bound = new_sig.bind(ax, *args, **kwargs)\n\u001b[32m   1527\u001b[39m     auto_label = (bound.arguments.get(label_namer)\n\u001b[32m   1528\u001b[39m                   \u001b[38;5;129;01mor\u001b[39;00m bound.kwargs.get(label_namer))\n",
      "\u001b[36mFile \u001b[39m\u001b[32mc:\\Users\\X\\AppData\\Local\\Programs\\Python\\Python311\\Lib\\site-packages\\matplotlib\\axes\\_axes.py:5979\u001b[39m, in \u001b[36mAxes.imshow\u001b[39m\u001b[34m(self, X, cmap, norm, aspect, interpolation, alpha, vmin, vmax, colorizer, origin, extent, interpolation_stage, filternorm, filterrad, resample, url, **kwargs)\u001b[39m\n\u001b[32m   5976\u001b[39m \u001b[38;5;28;01mif\u001b[39;00m aspect \u001b[38;5;129;01mis\u001b[39;00m \u001b[38;5;129;01mnot\u001b[39;00m \u001b[38;5;28;01mNone\u001b[39;00m:\n\u001b[32m   5977\u001b[39m     \u001b[38;5;28mself\u001b[39m.set_aspect(aspect)\n\u001b[32m-> \u001b[39m\u001b[32m5979\u001b[39m \u001b[43mim\u001b[49m\u001b[43m.\u001b[49m\u001b[43mset_data\u001b[49m\u001b[43m(\u001b[49m\u001b[43mX\u001b[49m\u001b[43m)\u001b[49m\n\u001b[32m   5980\u001b[39m im.set_alpha(alpha)\n\u001b[32m   5981\u001b[39m \u001b[38;5;28;01mif\u001b[39;00m im.get_clip_path() \u001b[38;5;129;01mis\u001b[39;00m \u001b[38;5;28;01mNone\u001b[39;00m:\n\u001b[32m   5982\u001b[39m     \u001b[38;5;66;03m# image does not already have clipping set, clip to Axes patch\u001b[39;00m\n",
      "\u001b[36mFile \u001b[39m\u001b[32mc:\\Users\\X\\AppData\\Local\\Programs\\Python\\Python311\\Lib\\site-packages\\matplotlib\\image.py:685\u001b[39m, in \u001b[36m_ImageBase.set_data\u001b[39m\u001b[34m(self, A)\u001b[39m\n\u001b[32m    683\u001b[39m \u001b[38;5;28;01mif\u001b[39;00m \u001b[38;5;28misinstance\u001b[39m(A, PIL.Image.Image):\n\u001b[32m    684\u001b[39m     A = pil_to_array(A)  \u001b[38;5;66;03m# Needed e.g. to apply png palette.\u001b[39;00m\n\u001b[32m--> \u001b[39m\u001b[32m685\u001b[39m \u001b[38;5;28mself\u001b[39m._A = \u001b[38;5;28;43mself\u001b[39;49m\u001b[43m.\u001b[49m\u001b[43m_normalize_image_array\u001b[49m\u001b[43m(\u001b[49m\u001b[43mA\u001b[49m\u001b[43m)\u001b[49m\n\u001b[32m    686\u001b[39m \u001b[38;5;28mself\u001b[39m._imcache = \u001b[38;5;28;01mNone\u001b[39;00m\n\u001b[32m    687\u001b[39m \u001b[38;5;28mself\u001b[39m.stale = \u001b[38;5;28;01mTrue\u001b[39;00m\n",
      "\u001b[36mFile \u001b[39m\u001b[32mc:\\Users\\X\\AppData\\Local\\Programs\\Python\\Python311\\Lib\\site-packages\\matplotlib\\image.py:648\u001b[39m, in \u001b[36m_ImageBase._normalize_image_array\u001b[39m\u001b[34m(A)\u001b[39m\n\u001b[32m    646\u001b[39m A = cbook.safe_masked_invalid(A, copy=\u001b[38;5;28;01mTrue\u001b[39;00m)\n\u001b[32m    647\u001b[39m \u001b[38;5;28;01mif\u001b[39;00m A.dtype != np.uint8 \u001b[38;5;129;01mand\u001b[39;00m \u001b[38;5;129;01mnot\u001b[39;00m np.can_cast(A.dtype, \u001b[38;5;28mfloat\u001b[39m, \u001b[33m\"\u001b[39m\u001b[33msame_kind\u001b[39m\u001b[33m\"\u001b[39m):\n\u001b[32m--> \u001b[39m\u001b[32m648\u001b[39m     \u001b[38;5;28;01mraise\u001b[39;00m \u001b[38;5;167;01mTypeError\u001b[39;00m(\u001b[33mf\u001b[39m\u001b[33m\"\u001b[39m\u001b[33mImage data of dtype \u001b[39m\u001b[38;5;132;01m{\u001b[39;00mA.dtype\u001b[38;5;132;01m}\u001b[39;00m\u001b[33m cannot be \u001b[39m\u001b[33m\"\u001b[39m\n\u001b[32m    649\u001b[39m                     \u001b[33mf\u001b[39m\u001b[33m\"\u001b[39m\u001b[33mconverted to float\u001b[39m\u001b[33m\"\u001b[39m)\n\u001b[32m    650\u001b[39m \u001b[38;5;28;01mif\u001b[39;00m A.ndim == \u001b[32m3\u001b[39m \u001b[38;5;129;01mand\u001b[39;00m A.shape[-\u001b[32m1\u001b[39m] == \u001b[32m1\u001b[39m:\n\u001b[32m    651\u001b[39m     A = A.squeeze(-\u001b[32m1\u001b[39m)  \u001b[38;5;66;03m# If just (M, N, 1), assume scalar and apply colormap.\u001b[39;00m\n",
      "\u001b[31mTypeError\u001b[39m: Image data of dtype object cannot be converted to float"
     ]
    },
    {
     "data": {
      "image/png": "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",
      "text/plain": [
       "<Figure size 800x800 with 10 Axes>"
=======
     "data": {
      "image/png": "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",
      "text/plain": [
       "<Figure size 800x800 with 9 Axes>"
>>>>>>> origin
      ]
     },
     "metadata": {},
     "output_type": "display_data"
    }
   ],
   "source": [
    "import cv2\n",
    "fig = plt.figure(figsize=(8, 8))\n",
    "h=10\n",
    "w=10\n",
<<<<<<< HEAD
    "columns = 4\n",
    "rows = 5\n",
=======
    "columns = 3\n",
    "rows = 3\n",
>>>>>>> origin
    "for i in range(1, columns*rows +1):\n",
    "    im = cv2.imread(f'./data/face/face0000{i}.pgm')\n",
    "    fig.add_subplot(rows, columns, i)\n",
    "    plt.axis('off')\n",
    "    plt.imshow(im)\n",
    "\n",
    "plt.show()"
   ]
  },
  {
   "cell_type": "code",
<<<<<<< HEAD
   "execution_count": 22,
=======
   "execution_count": 24,
>>>>>>> origin
   "id": "347a8db2",
   "metadata": {},
   "outputs": [
    {
<<<<<<< HEAD
     "ename": "TypeError",
     "evalue": "Image data of dtype object cannot be converted to float",
     "output_type": "error",
     "traceback": [
      "\u001b[31m---------------------------------------------------------------------------\u001b[39m",
      "\u001b[31mTypeError\u001b[39m                                 Traceback (most recent call last)",
      "\u001b[36mCell\u001b[39m\u001b[36m \u001b[39m\u001b[32mIn[22]\u001b[39m\u001b[32m, line 11\u001b[39m\n\u001b[32m      9\u001b[39m     fig.add_subplot(rows, columns, i)\n\u001b[32m     10\u001b[39m     plt.axis(\u001b[33m'\u001b[39m\u001b[33moff\u001b[39m\u001b[33m'\u001b[39m)\n\u001b[32m---> \u001b[39m\u001b[32m11\u001b[39m     \u001b[43mplt\u001b[49m\u001b[43m.\u001b[49m\u001b[43mimshow\u001b[49m\u001b[43m(\u001b[49m\u001b[43mim\u001b[49m\u001b[43m)\u001b[49m\n\u001b[32m     13\u001b[39m plt.show()\n",
      "\u001b[36mFile \u001b[39m\u001b[32mc:\\Users\\X\\AppData\\Local\\Programs\\Python\\Python311\\Lib\\site-packages\\matplotlib\\pyplot.py:3601\u001b[39m, in \u001b[36mimshow\u001b[39m\u001b[34m(X, cmap, norm, aspect, interpolation, alpha, vmin, vmax, colorizer, origin, extent, interpolation_stage, filternorm, filterrad, resample, url, data, **kwargs)\u001b[39m\n\u001b[32m   3579\u001b[39m \u001b[38;5;129m@_copy_docstring_and_deprecators\u001b[39m(Axes.imshow)\n\u001b[32m   3580\u001b[39m \u001b[38;5;28;01mdef\u001b[39;00m\u001b[38;5;250m \u001b[39m\u001b[34mimshow\u001b[39m(\n\u001b[32m   3581\u001b[39m     X: ArrayLike | PIL.Image.Image,\n\u001b[32m   (...)\u001b[39m\u001b[32m   3599\u001b[39m     **kwargs,\n\u001b[32m   3600\u001b[39m ) -> AxesImage:\n\u001b[32m-> \u001b[39m\u001b[32m3601\u001b[39m     __ret = \u001b[43mgca\u001b[49m\u001b[43m(\u001b[49m\u001b[43m)\u001b[49m\u001b[43m.\u001b[49m\u001b[43mimshow\u001b[49m\u001b[43m(\u001b[49m\n\u001b[32m   3602\u001b[39m \u001b[43m        \u001b[49m\u001b[43mX\u001b[49m\u001b[43m,\u001b[49m\n\u001b[32m   3603\u001b[39m \u001b[43m        \u001b[49m\u001b[43mcmap\u001b[49m\u001b[43m=\u001b[49m\u001b[43mcmap\u001b[49m\u001b[43m,\u001b[49m\n\u001b[32m   3604\u001b[39m \u001b[43m        \u001b[49m\u001b[43mnorm\u001b[49m\u001b[43m=\u001b[49m\u001b[43mnorm\u001b[49m\u001b[43m,\u001b[49m\n\u001b[32m   3605\u001b[39m \u001b[43m        \u001b[49m\u001b[43maspect\u001b[49m\u001b[43m=\u001b[49m\u001b[43maspect\u001b[49m\u001b[43m,\u001b[49m\n\u001b[32m   3606\u001b[39m \u001b[43m        \u001b[49m\u001b[43minterpolation\u001b[49m\u001b[43m=\u001b[49m\u001b[43minterpolation\u001b[49m\u001b[43m,\u001b[49m\n\u001b[32m   3607\u001b[39m \u001b[43m        \u001b[49m\u001b[43malpha\u001b[49m\u001b[43m=\u001b[49m\u001b[43malpha\u001b[49m\u001b[43m,\u001b[49m\n\u001b[32m   3608\u001b[39m \u001b[43m        \u001b[49m\u001b[43mvmin\u001b[49m\u001b[43m=\u001b[49m\u001b[43mvmin\u001b[49m\u001b[43m,\u001b[49m\n\u001b[32m   3609\u001b[39m \u001b[43m        \u001b[49m\u001b[43mvmax\u001b[49m\u001b[43m=\u001b[49m\u001b[43mvmax\u001b[49m\u001b[43m,\u001b[49m\n\u001b[32m   3610\u001b[39m \u001b[43m        \u001b[49m\u001b[43mcolorizer\u001b[49m\u001b[43m=\u001b[49m\u001b[43mcolorizer\u001b[49m\u001b[43m,\u001b[49m\n\u001b[32m   3611\u001b[39m \u001b[43m        \u001b[49m\u001b[43morigin\u001b[49m\u001b[43m=\u001b[49m\u001b[43morigin\u001b[49m\u001b[43m,\u001b[49m\n\u001b[32m   3612\u001b[39m \u001b[43m        \u001b[49m\u001b[43mextent\u001b[49m\u001b[43m=\u001b[49m\u001b[43mextent\u001b[49m\u001b[43m,\u001b[49m\n\u001b[32m   3613\u001b[39m \u001b[43m        \u001b[49m\u001b[43minterpolation_stage\u001b[49m\u001b[43m=\u001b[49m\u001b[43minterpolation_stage\u001b[49m\u001b[43m,\u001b[49m\n\u001b[32m   3614\u001b[39m \u001b[43m        \u001b[49m\u001b[43mfilternorm\u001b[49m\u001b[43m=\u001b[49m\u001b[43mfilternorm\u001b[49m\u001b[43m,\u001b[49m\n\u001b[32m   3615\u001b[39m \u001b[43m        \u001b[49m\u001b[43mfilterrad\u001b[49m\u001b[43m=\u001b[49m\u001b[43mfilterrad\u001b[49m\u001b[43m,\u001b[49m\n\u001b[32m   3616\u001b[39m \u001b[43m        \u001b[49m\u001b[43mresample\u001b[49m\u001b[43m=\u001b[49m\u001b[43mresample\u001b[49m\u001b[43m,\u001b[49m\n\u001b[32m   3617\u001b[39m \u001b[43m        \u001b[49m\u001b[43murl\u001b[49m\u001b[43m=\u001b[49m\u001b[43murl\u001b[49m\u001b[43m,\u001b[49m\n\u001b[32m   3618\u001b[39m \u001b[43m        \u001b[49m\u001b[43m*\u001b[49m\u001b[43m*\u001b[49m\u001b[43m(\u001b[49m\u001b[43m{\u001b[49m\u001b[33;43m\"\u001b[39;49m\u001b[33;43mdata\u001b[39;49m\u001b[33;43m\"\u001b[39;49m\u001b[43m:\u001b[49m\u001b[43m \u001b[49m\u001b[43mdata\u001b[49m\u001b[43m}\u001b[49m\u001b[43m \u001b[49m\u001b[38;5;28;43;01mif\u001b[39;49;00m\u001b[43m \u001b[49m\u001b[43mdata\u001b[49m\u001b[43m \u001b[49m\u001b[38;5;129;43;01mis\u001b[39;49;00m\u001b[43m \u001b[49m\u001b[38;5;129;43;01mnot\u001b[39;49;00m\u001b[43m \u001b[49m\u001b[38;5;28;43;01mNone\u001b[39;49;00m\u001b[43m \u001b[49m\u001b[38;5;28;43;01melse\u001b[39;49;00m\u001b[43m \u001b[49m\u001b[43m{\u001b[49m\u001b[43m}\u001b[49m\u001b[43m)\u001b[49m\u001b[43m,\u001b[49m\n\u001b[32m   3619\u001b[39m \u001b[43m        \u001b[49m\u001b[43m*\u001b[49m\u001b[43m*\u001b[49m\u001b[43mkwargs\u001b[49m\u001b[43m,\u001b[49m\n\u001b[32m   3620\u001b[39m \u001b[43m    \u001b[49m\u001b[43m)\u001b[49m\n\u001b[32m   3621\u001b[39m     sci(__ret)\n\u001b[32m   3622\u001b[39m     \u001b[38;5;28;01mreturn\u001b[39;00m __ret\n",
      "\u001b[36mFile \u001b[39m\u001b[32mc:\\Users\\X\\AppData\\Local\\Programs\\Python\\Python311\\Lib\\site-packages\\matplotlib\\__init__.py:1521\u001b[39m, in \u001b[36m_preprocess_data.<locals>.inner\u001b[39m\u001b[34m(ax, data, *args, **kwargs)\u001b[39m\n\u001b[32m   1518\u001b[39m \u001b[38;5;129m@functools\u001b[39m.wraps(func)\n\u001b[32m   1519\u001b[39m \u001b[38;5;28;01mdef\u001b[39;00m\u001b[38;5;250m \u001b[39m\u001b[34minner\u001b[39m(ax, *args, data=\u001b[38;5;28;01mNone\u001b[39;00m, **kwargs):\n\u001b[32m   1520\u001b[39m     \u001b[38;5;28;01mif\u001b[39;00m data \u001b[38;5;129;01mis\u001b[39;00m \u001b[38;5;28;01mNone\u001b[39;00m:\n\u001b[32m-> \u001b[39m\u001b[32m1521\u001b[39m         \u001b[38;5;28;01mreturn\u001b[39;00m \u001b[43mfunc\u001b[49m\u001b[43m(\u001b[49m\n\u001b[32m   1522\u001b[39m \u001b[43m            \u001b[49m\u001b[43max\u001b[49m\u001b[43m,\u001b[49m\n\u001b[32m   1523\u001b[39m \u001b[43m            \u001b[49m\u001b[43m*\u001b[49m\u001b[38;5;28;43mmap\u001b[39;49m\u001b[43m(\u001b[49m\u001b[43mcbook\u001b[49m\u001b[43m.\u001b[49m\u001b[43msanitize_sequence\u001b[49m\u001b[43m,\u001b[49m\u001b[43m \u001b[49m\u001b[43margs\u001b[49m\u001b[43m)\u001b[49m\u001b[43m,\u001b[49m\n\u001b[32m   1524\u001b[39m \u001b[43m            \u001b[49m\u001b[43m*\u001b[49m\u001b[43m*\u001b[49m\u001b[43m{\u001b[49m\u001b[43mk\u001b[49m\u001b[43m:\u001b[49m\u001b[43m \u001b[49m\u001b[43mcbook\u001b[49m\u001b[43m.\u001b[49m\u001b[43msanitize_sequence\u001b[49m\u001b[43m(\u001b[49m\u001b[43mv\u001b[49m\u001b[43m)\u001b[49m\u001b[43m \u001b[49m\u001b[38;5;28;43;01mfor\u001b[39;49;00m\u001b[43m \u001b[49m\u001b[43mk\u001b[49m\u001b[43m,\u001b[49m\u001b[43m \u001b[49m\u001b[43mv\u001b[49m\u001b[43m \u001b[49m\u001b[38;5;129;43;01min\u001b[39;49;00m\u001b[43m \u001b[49m\u001b[43mkwargs\u001b[49m\u001b[43m.\u001b[49m\u001b[43mitems\u001b[49m\u001b[43m(\u001b[49m\u001b[43m)\u001b[49m\u001b[43m}\u001b[49m\u001b[43m)\u001b[49m\n\u001b[32m   1526\u001b[39m     bound = new_sig.bind(ax, *args, **kwargs)\n\u001b[32m   1527\u001b[39m     auto_label = (bound.arguments.get(label_namer)\n\u001b[32m   1528\u001b[39m                   \u001b[38;5;129;01mor\u001b[39;00m bound.kwargs.get(label_namer))\n",
      "\u001b[36mFile \u001b[39m\u001b[32mc:\\Users\\X\\AppData\\Local\\Programs\\Python\\Python311\\Lib\\site-packages\\matplotlib\\axes\\_axes.py:5979\u001b[39m, in \u001b[36mAxes.imshow\u001b[39m\u001b[34m(self, X, cmap, norm, aspect, interpolation, alpha, vmin, vmax, colorizer, origin, extent, interpolation_stage, filternorm, filterrad, resample, url, **kwargs)\u001b[39m\n\u001b[32m   5976\u001b[39m \u001b[38;5;28;01mif\u001b[39;00m aspect \u001b[38;5;129;01mis\u001b[39;00m \u001b[38;5;129;01mnot\u001b[39;00m \u001b[38;5;28;01mNone\u001b[39;00m:\n\u001b[32m   5977\u001b[39m     \u001b[38;5;28mself\u001b[39m.set_aspect(aspect)\n\u001b[32m-> \u001b[39m\u001b[32m5979\u001b[39m \u001b[43mim\u001b[49m\u001b[43m.\u001b[49m\u001b[43mset_data\u001b[49m\u001b[43m(\u001b[49m\u001b[43mX\u001b[49m\u001b[43m)\u001b[49m\n\u001b[32m   5980\u001b[39m im.set_alpha(alpha)\n\u001b[32m   5981\u001b[39m \u001b[38;5;28;01mif\u001b[39;00m im.get_clip_path() \u001b[38;5;129;01mis\u001b[39;00m \u001b[38;5;28;01mNone\u001b[39;00m:\n\u001b[32m   5982\u001b[39m     \u001b[38;5;66;03m# image does not already have clipping set, clip to Axes patch\u001b[39;00m\n",
      "\u001b[36mFile \u001b[39m\u001b[32mc:\\Users\\X\\AppData\\Local\\Programs\\Python\\Python311\\Lib\\site-packages\\matplotlib\\image.py:685\u001b[39m, in \u001b[36m_ImageBase.set_data\u001b[39m\u001b[34m(self, A)\u001b[39m\n\u001b[32m    683\u001b[39m \u001b[38;5;28;01mif\u001b[39;00m \u001b[38;5;28misinstance\u001b[39m(A, PIL.Image.Image):\n\u001b[32m    684\u001b[39m     A = pil_to_array(A)  \u001b[38;5;66;03m# Needed e.g. to apply png palette.\u001b[39;00m\n\u001b[32m--> \u001b[39m\u001b[32m685\u001b[39m \u001b[38;5;28mself\u001b[39m._A = \u001b[38;5;28;43mself\u001b[39;49m\u001b[43m.\u001b[49m\u001b[43m_normalize_image_array\u001b[49m\u001b[43m(\u001b[49m\u001b[43mA\u001b[49m\u001b[43m)\u001b[49m\n\u001b[32m    686\u001b[39m \u001b[38;5;28mself\u001b[39m._imcache = \u001b[38;5;28;01mNone\u001b[39;00m\n\u001b[32m    687\u001b[39m \u001b[38;5;28mself\u001b[39m.stale = \u001b[38;5;28;01mTrue\u001b[39;00m\n",
      "\u001b[36mFile \u001b[39m\u001b[32mc:\\Users\\X\\AppData\\Local\\Programs\\Python\\Python311\\Lib\\site-packages\\matplotlib\\image.py:648\u001b[39m, in \u001b[36m_ImageBase._normalize_image_array\u001b[39m\u001b[34m(A)\u001b[39m\n\u001b[32m    646\u001b[39m A = cbook.safe_masked_invalid(A, copy=\u001b[38;5;28;01mTrue\u001b[39;00m)\n\u001b[32m    647\u001b[39m \u001b[38;5;28;01mif\u001b[39;00m A.dtype != np.uint8 \u001b[38;5;129;01mand\u001b[39;00m \u001b[38;5;129;01mnot\u001b[39;00m np.can_cast(A.dtype, \u001b[38;5;28mfloat\u001b[39m, \u001b[33m\"\u001b[39m\u001b[33msame_kind\u001b[39m\u001b[33m\"\u001b[39m):\n\u001b[32m--> \u001b[39m\u001b[32m648\u001b[39m     \u001b[38;5;28;01mraise\u001b[39;00m \u001b[38;5;167;01mTypeError\u001b[39;00m(\u001b[33mf\u001b[39m\u001b[33m\"\u001b[39m\u001b[33mImage data of dtype \u001b[39m\u001b[38;5;132;01m{\u001b[39;00mA.dtype\u001b[38;5;132;01m}\u001b[39;00m\u001b[33m cannot be \u001b[39m\u001b[33m\"\u001b[39m\n\u001b[32m    649\u001b[39m                     \u001b[33mf\u001b[39m\u001b[33m\"\u001b[39m\u001b[33mconverted to float\u001b[39m\u001b[33m\"\u001b[39m)\n\u001b[32m    650\u001b[39m \u001b[38;5;28;01mif\u001b[39;00m A.ndim == \u001b[32m3\u001b[39m \u001b[38;5;129;01mand\u001b[39;00m A.shape[-\u001b[32m1\u001b[39m] == \u001b[32m1\u001b[39m:\n\u001b[32m    651\u001b[39m     A = A.squeeze(-\u001b[32m1\u001b[39m)  \u001b[38;5;66;03m# If just (M, N, 1), assume scalar and apply colormap.\u001b[39;00m\n",
      "\u001b[31mTypeError\u001b[39m: Image data of dtype object cannot be converted to float"
     ]
    },
    {
     "data": {
      "image/png": "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",
      "text/plain": [
       "<Figure size 800x800 with 10 Axes>"
=======
     "data": {
      "image/png": "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",
      "text/plain": [
       "<Figure size 800x800 with 9 Axes>"
>>>>>>> origin
      ]
     },
     "metadata": {},
     "output_type": "display_data"
    }
   ],
   "source": [
    "import cv2\n",
    "fig = plt.figure(figsize=(8, 8))\n",
    "h=10\n",
    "w=10\n",
<<<<<<< HEAD
    "columns = 4\n",
    "rows = 5\n",
=======
    "columns = 3\n",
    "rows = 3\n",
>>>>>>> origin
    "for i in range(1, columns*rows +1):\n",
    "    im = cv2.imread(f'./data/non-face/B1_0000{i}.pgm')\n",
    "    fig.add_subplot(rows, columns, i)\n",
    "    plt.axis('off')\n",
    "    plt.imshow(im)\n",
    "\n",
    "plt.show()"
   ]
  },
  {
   "cell_type": "markdown",
   "id": "0221a1a2",
   "metadata": {},
   "source": [
    "<h2>Integral Computation Step</h2>\n",
    "<h3>Image processing from both face and non-face data for diversity of training process</h3>"
   ]
  },
  {
   "cell_type": "code",
<<<<<<< HEAD
   "execution_count": 2,
=======
   "execution_count": 3,
>>>>>>> origin
   "id": "9ffa2412",
   "metadata": {},
   "outputs": [],
   "source": [
    "face_paths = glob(\"data/face/*.pgm\")\n",
    "faces = []\n",
    "\n",
    "for path in face_paths:\n",
    "    img = Image.open(path).convert('L')    \n",
    "    img_array = np.array(img)            \n",
    "    integral = compute_integral_image(img_array)\n",
    "    faces.append(integral)\n",
    "\n",
    "nonface_paths = glob(\"data/non-face/*.pgm\")\n",
    "nonfaces = []\n",
    "\n",
    "for path in nonface_paths:\n",
    "    img = Image.open(path).convert('L')\n",
    "    img_array = np.array(img)\n",
    "    integral = compute_integral_image(img_array)\n",
    "    nonfaces.append(integral)\n",
    "\n",
    "X = faces + nonfaces\n",
    "y = np.array([1] * len(faces) + [0] * len(nonfaces))\n"
   ]
  },
  {
<<<<<<< HEAD
   "cell_type": "markdown",
   "id": "515dacc7",
   "metadata": {},
   "source": [
    "<h2>Subset Analysis</h2>\n",
    "<h3>In order to optimize time-consuming training process we select 200 pgm images to speed up the process.</h3>"
   ]
  },
  {
   "cell_type": "code",
   "execution_count": 3,
=======
   "cell_type": "code",
   "execution_count": 4,
>>>>>>> origin
   "id": "812b9a65",
   "metadata": {},
   "outputs": [],
   "source": [
    "X_small = X[:200]\n",
    "y_small = y[:200]"
   ]
  },
  {
   "cell_type": "markdown",
   "id": "19d9fb04",
   "metadata": {},
   "source": [
    "<h2>Feature Generation Step</h2>\n",
    "<h3>In order to prepare features for final training, we loop through all pixels. At the end of each loop we apply Haare Algorithm and compute region sums. </h3>"
   ]
  },
  {
<<<<<<< HEAD
   "cell_type": "code",
   "execution_count": 5,
=======
   "cell_type": "markdown",
   "id": "e9d1241b",
   "metadata": {},
   "source": [
    "The Haar feature selection algorithm for images, used prominently in the Viola-Jones face detection framework, identifies the most informative visual features by combining simple rectangular patterns, integral images, and the AdaBoost learning algorithm. Haar-like features measure intensity differences between adjacent regions in an image and come in various forms, such as two-rectangle, three-rectangle, and four-rectangle patterns, capturing edges, lines, and texture contrasts. These features are computed efficiently using an integral image, which allows any rectangular region sum to be calculated in constant time, drastically reducing computation. Given the vast number of potential features within a detection window, AdaBoost is employed to select only the most relevant ones. In each round of boosting, AdaBoost evaluates all features to find the one that best separates positive (e.g., faces) from negative (non-face) examples, adjusts the sample weights to focus on misclassified instances, and builds a strong classifier from a small set of these weak learners. The result is a fast, accurate classifier that uses a minimal number of critical features from a much larger pool, making it highly effective for real-time image detection tasks."
   ]
  },
  {
   "cell_type": "code",
   "execution_count": 5,
   "id": "267342f2",
   "metadata": {},
   "outputs": [],
   "source": [
    "class HaarFeature:\n",
    "    def __init__(self, feature_type, position, width, height):\n",
    "        self.feature_type = feature_type  # 'two-rectangle'\n",
    "        self.position = position  # (x, y)\n",
    "        self.width = width\n",
    "        self.height = height\n",
    "\n",
    "    def compute_value(self, integral_img):\n",
    "        x, y = self.position\n",
    "        w, h = self.width, self.height\n",
    "\n",
    "        if self.feature_type == 'two-rectangle-horizontal':\n",
    "            A = self.sum_region(integral_img, x, y, w // 2, h)\n",
    "            B = self.sum_region(integral_img, x + w // 2, y, w // 2, h)\n",
    "            return A - B\n",
    "        elif self.feature_type == 'two-rectangle-vertical':\n",
    "            A = self.sum_region(integral_img, x, y, w, h // 2)\n",
    "            B = self.sum_region(integral_img, x, y + h // 2, w, h // 2)\n",
    "            return A - B\n",
    "        elif self.feature_type == 'three-rectangle-horizontal':\n",
    "            A = self.sum_region(integral_img, x, y, w //3, h)\n",
    "            B = self.sum_region(integral_img, x + w // 3, y, w // 3, h)\n",
    "            C = self.sum_region(integral_img, x + 2*(w // 3), y, w // 3, h)\n",
    "            return A - B + C\n",
    "        elif self.feature_type == 'three-rectangle-vertical':\n",
    "            A = self.sum_region(integral_img, x, y, w, h // 3)\n",
    "            B = self.sum_region(integral_img, x, y + h // 3, w, h // 3)\n",
    "            C = self.sum_region(integral_img, x, y + 2*(h // 3), w, h // 3)\n",
    "            return A - B + C\n",
    "        elif self.feature_type == 'four-rectangle':\n",
    "            A = self.sum_region(integral_img, x, y, w // 2, h // 2)\n",
    "            B = self.sum_region(integral_img, x + w // 2, y, w // 2, h // 2)\n",
    "            C = self.sum_region(integral_img, x, y + h // 2, w // 2, h // 2)\n",
    "            D = self.sum_region(integral_img, x + w // 2, y + h // 2, w // 2, h // 2)\n",
    "            return A - B - C + D\n",
    "        else:\n",
    "            return 0\n",
    "\n",
    "    def sum_region(self, integral_img, x, y, w, h):\n",
    "        A = integral_img[y-1, x-1] if y > 0 and x > 0 else 0\n",
    "        B = integral_img[y-1, x+w-1] if y > 0 else 0\n",
    "        C = integral_img[y+h-1, x-1] if x > 0 else 0\n",
    "        D = integral_img[y+h-1, x+w-1]\n",
    "        return D - B - C + A"
   ]
  },
  {
   "cell_type": "code",
   "execution_count": 6,
   "id": "2a4f86cb",
   "metadata": {},
   "outputs": [],
   "source": [
    "def generate_features(window_size = 24):\n",
    "    features = []\n",
    "    \n",
    "    for feature_type in ['two-rectangle-horizontal','two-rectangle-vertical','three-rectangle-horizontal','three-rectangle-vertical','four-rectangle']:\n",
    "        for w in range (1, window_size + 1):\n",
    "            for h in range(1, window_size + 1):\n",
    "                for x in range(0, window_size - w + 1):\n",
    "                    for y in range(0, window_size - h + 1):\n",
    "                        feature = HaarFeature(feature_type, (x, y), w, h)\n",
    "                        features.append(feature)\n",
    "    return features"
   ]
  },
  {
   "cell_type": "code",
   "execution_count": 7,
>>>>>>> origin
   "id": "9b4297bd",
   "metadata": {},
   "outputs": [
    {
     "name": "stdout",
     "output_type": "stream",
     "text": [
      "Number of features: 450000\n"
     ]
    }
   ],
   "source": [
    "features = generate_features()\n",
    "print(\"Number of features:\", len(features))"
   ]
  },
  {
   "cell_type": "code",
<<<<<<< HEAD
   "execution_count": 6,
=======
   "execution_count": 8,
>>>>>>> origin
   "id": "f734e0d2",
   "metadata": {},
   "outputs": [],
   "source": [
    "import random\n",
    "\n",
    "features_all = generate_features()\n",
    "features = random.sample(features_all, 500)\n"
   ]
  },
  {
   "cell_type": "markdown",
   "id": "1497bd55",
   "metadata": {},
   "source": [
    "<h2>AdaBoost algorithm</h2>\n",
    "\n",
    "It's a machine learning ensemble algorithm that has been effectively used in image detection tasks, particularly in object detection such as face recognition. It operates by combining multiple weak classifiers—typically simple decision stumps—into a single strong classifier. AdaBoost selects the most discriminative features by iteratively focusing on examples that were misclassified in previous rounds, adjusting their weights so subsequent classifiers concentrate on harder cases. This results in a final strong classifier that is a weighted combination of a small number of the most effective weak classifiers. To enhance performance and speed, especially for real-time applications, a cascade of classifiers is used: early stages quickly eliminate negative regions of the image (e.g., areas without a face), while later stages apply more complex checks to reduce false positives. This approach, famously implemented in the Viola-Jones face detection framework, enables fast and accurate object detection by focusing computational effort only where it's most needed."
   ]
  },
  {
   "cell_type": "code",
<<<<<<< HEAD
   "execution_count": 7,
=======
   "execution_count": 9,
   "id": "f982ff02",
   "metadata": {},
   "outputs": [],
   "source": [
    "class WeakClassifier:\n",
    "    def __init__(self, feature, threshold, polarity):\n",
    "        self.feature = feature\n",
    "        self.threshold = threshold\n",
    "        self.polarity = polarity\n",
    "\n",
    "    def predict(self, integral_img):\n",
    "        feature_value = self.feature.compute_value(integral_img)\n",
    "        return 1 if self.polarity * feature_value < self.polarity * self.threshold else 0"
   ]
  },
  {
   "cell_type": "code",
   "execution_count": 10,
   "id": "76dd6846",
   "metadata": {},
   "outputs": [],
   "source": [
    "import numpy as np\n",
    "\n",
    "class AdaBoost:\n",
    "    def __init__(self, num_classifiers):\n",
    "        self.num_classifiers = num_classifiers\n",
    "        self.strong_classifier = []\n",
    "\n",
    "    def train(self, training_data, labels, features):\n",
    "        num_samples = len(training_data)\n",
    "        weights = np.ones(num_samples) / num_samples\n",
    "\n",
    "        for _ in range(self.num_classifiers):\n",
    "            best_classifier = None\n",
    "            best_error = float('inf')\n",
    "            best_pred = None\n",
    "\n",
    "            for feature in features:\n",
    "                values = [feature.compute_value(img) for img in training_data]\n",
    "                thresholds = np.linspace(min(values), max(values), 10)\n",
    "                for threshold in thresholds: \n",
    "                    for polarity in [1, -1]:\n",
    "                        classifier = WeakClassifier(feature, threshold, polarity)\n",
    "                        predictions = np.array([classifier.predict(img) for img in training_data])\n",
    "                        if np.any(predictions == None):\n",
    "                            continue\n",
    "                        error = np.sum(weights * (predictions != labels))\n",
    "                        if error < best_error:\n",
    "                            best_error = error\n",
    "                            best_classifier = classifier\n",
    "                            best_pred = predictions\n",
    "            if best_classifier is None or best_pred is None:\n",
    "                continue\n",
    "            epsilon = 1e-10\n",
    "            alpha = 0.5 * np.log((1 - best_error) / (best_error + epsilon))\n",
    "            weights *= np.exp(-alpha * labels * (2 * best_pred - 1))\n",
    "            weights /= np.sum(weights)\n",
    "\n",
    "            self.strong_classifier.append((alpha, best_classifier))\n",
    "\n",
    "    def predict(self, integral_img):\n",
    "        total = sum(alpha * (2 * clf.predict(integral_img) - 1)\n",
    "                    for alpha, clf in self.strong_classifier)\n",
    "        return 1 if total >= 0 else 0"
   ]
  },
  {
   "cell_type": "markdown",
   "id": "86998518",
   "metadata": {},
   "source": [
    "<h2>Training on the data</h2>\n",
    "\n",
    "For the model of AdaBoost defined with different features with conduct training process that was hard-coded into the class of AdaBoost Algorithm."
   ]
  },
  {
   "cell_type": "code",
   "execution_count": 11,
>>>>>>> origin
   "id": "7a6df2ab",
   "metadata": {},
   "outputs": [],
   "source": [
    "model = AdaBoost(num_classifiers=5)\n",
    "model.train(X, y, features)\n"
   ]
  },
  {
<<<<<<< HEAD
   "cell_type": "code",
   "execution_count": 27,
=======
   "cell_type": "markdown",
   "id": "5f1f1c6e",
   "metadata": {},
   "source": [
    "<h2>Prediction Step</h2>\n",
    "\n",
    "In order to implement trained model and see how accurately it predicts the data, we can roll through the data and try to capture if the predicted image is face or not."
   ]
  },
  {
   "cell_type": "code",
   "execution_count": 12,
>>>>>>> origin
   "id": "f5c19a3f",
   "metadata": {},
   "outputs": [
    {
     "name": "stdout",
     "output_type": "stream",
     "text": [
      "Example Image 0: Prediction = 1, Label = 1\n",
<<<<<<< HEAD
      "Example Image 1: Prediction = 0, Label = 1\n",
      "Example Image 2: Prediction = 0, Label = 1\n",
      "Example Image 3: Prediction = 1, Label = 1\n",
      "Example Image 4: Prediction = 0, Label = 1\n",
      "Example Image 5: Prediction = 0, Label = 1\n",
      "Example Image 6: Prediction = 1, Label = 1\n",
=======
      "Example Image 1: Prediction = 1, Label = 1\n",
      "Example Image 2: Prediction = 0, Label = 1\n",
      "Example Image 3: Prediction = 0, Label = 1\n",
      "Example Image 4: Prediction = 1, Label = 1\n",
      "Example Image 5: Prediction = 0, Label = 1\n",
      "Example Image 6: Prediction = 0, Label = 1\n",
>>>>>>> origin
      "Example Image 7: Prediction = 1, Label = 1\n",
      "Example Image 8: Prediction = 1, Label = 1\n",
      "Example Image 9: Prediction = 1, Label = 1\n",
      "Example Image 10: Prediction = 1, Label = 1\n",
<<<<<<< HEAD
      "Example Image 11: Prediction = 0, Label = 1\n",
      "Example Image 12: Prediction = 1, Label = 1\n",
      "Example Image 13: Prediction = 1, Label = 1\n",
      "Example Image 14: Prediction = 1, Label = 1\n",
      "Example Image 15: Prediction = 1, Label = 1\n",
      "Example Image 16: Prediction = 0, Label = 1\n",
=======
      "Example Image 11: Prediction = 1, Label = 1\n",
      "Example Image 12: Prediction = 1, Label = 1\n",
      "Example Image 13: Prediction = 0, Label = 1\n",
      "Example Image 14: Prediction = 1, Label = 1\n",
      "Example Image 15: Prediction = 1, Label = 1\n",
      "Example Image 16: Prediction = 1, Label = 1\n",
>>>>>>> origin
      "Example Image 17: Prediction = 0, Label = 1\n",
      "Example Image 18: Prediction = 0, Label = 1\n",
      "Example Image 19: Prediction = 0, Label = 1\n",
      "Example Image 20: Prediction = 1, Label = 1\n",
      "Example Image 21: Prediction = 1, Label = 1\n",
      "Example Image 22: Prediction = 1, Label = 1\n",
<<<<<<< HEAD
      "Example Image 23: Prediction = 0, Label = 1\n",
      "Example Image 24: Prediction = 0, Label = 1\n",
      "Example Image 25: Prediction = 0, Label = 1\n",
      "Example Image 26: Prediction = 1, Label = 1\n",
      "Example Image 27: Prediction = 0, Label = 1\n",
      "Example Image 28: Prediction = 1, Label = 1\n",
      "Example Image 29: Prediction = 1, Label = 1\n",
      "Example Image 30: Prediction = 0, Label = 1\n",
      "Example Image 31: Prediction = 0, Label = 1\n",
      "Example Image 32: Prediction = 1, Label = 1\n",
      "Example Image 33: Prediction = 1, Label = 1\n",
=======
      "Example Image 23: Prediction = 1, Label = 1\n",
      "Example Image 24: Prediction = 1, Label = 1\n",
      "Example Image 25: Prediction = 1, Label = 1\n",
      "Example Image 26: Prediction = 1, Label = 1\n",
      "Example Image 27: Prediction = 1, Label = 1\n",
      "Example Image 28: Prediction = 1, Label = 1\n",
      "Example Image 29: Prediction = 0, Label = 1\n",
      "Example Image 30: Prediction = 0, Label = 1\n",
      "Example Image 31: Prediction = 0, Label = 1\n",
      "Example Image 32: Prediction = 0, Label = 1\n",
      "Example Image 33: Prediction = 0, Label = 1\n",
>>>>>>> origin
      "Example Image 34: Prediction = 1, Label = 1\n",
      "Example Image 35: Prediction = 1, Label = 1\n",
      "Example Image 36: Prediction = 1, Label = 1\n",
      "Example Image 37: Prediction = 0, Label = 1\n",
      "Example Image 38: Prediction = 0, Label = 1\n",
      "Example Image 39: Prediction = 0, Label = 1\n",
      "Example Image 40: Prediction = 1, Label = 1\n",
      "Example Image 41: Prediction = 1, Label = 1\n",
      "Example Image 42: Prediction = 1, Label = 1\n",
      "Example Image 43: Prediction = 1, Label = 1\n",
      "Example Image 44: Prediction = 0, Label = 1\n",
      "Example Image 45: Prediction = 0, Label = 1\n",
      "Example Image 46: Prediction = 0, Label = 1\n",
      "Example Image 47: Prediction = 0, Label = 1\n",
<<<<<<< HEAD
      "Example Image 48: Prediction = 0, Label = 1\n",
      "Example Image 49: Prediction = 0, Label = 1\n",
      "Example Image 50: Prediction = 0, Label = 1\n",
      "Example Image 51: Prediction = 0, Label = 1\n",
      "Example Image 52: Prediction = 0, Label = 1\n",
      "Example Image 53: Prediction = 1, Label = 1\n",
      "Example Image 54: Prediction = 0, Label = 1\n",
      "Example Image 55: Prediction = 0, Label = 1\n",
      "Example Image 56: Prediction = 0, Label = 1\n",
      "Example Image 57: Prediction = 1, Label = 1\n",
=======
      "Example Image 48: Prediction = 1, Label = 1\n",
      "Example Image 49: Prediction = 0, Label = 1\n",
      "Example Image 50: Prediction = 0, Label = 1\n",
      "Example Image 51: Prediction = 1, Label = 1\n",
      "Example Image 52: Prediction = 1, Label = 1\n",
      "Example Image 53: Prediction = 1, Label = 1\n",
      "Example Image 54: Prediction = 1, Label = 1\n",
      "Example Image 55: Prediction = 1, Label = 1\n",
      "Example Image 56: Prediction = 0, Label = 1\n",
      "Example Image 57: Prediction = 0, Label = 1\n",
>>>>>>> origin
      "Example Image 58: Prediction = 1, Label = 1\n",
      "Example Image 59: Prediction = 1, Label = 1\n",
      "Example Image 60: Prediction = 1, Label = 1\n",
      "Example Image 61: Prediction = 0, Label = 1\n",
      "Example Image 62: Prediction = 1, Label = 1\n",
<<<<<<< HEAD
      "Example Image 63: Prediction = 1, Label = 1\n",
=======
      "Example Image 63: Prediction = 0, Label = 1\n",
>>>>>>> origin
      "Example Image 64: Prediction = 0, Label = 1\n",
      "Example Image 65: Prediction = 1, Label = 1\n",
      "Example Image 66: Prediction = 1, Label = 1\n",
      "Example Image 67: Prediction = 1, Label = 1\n",
      "Example Image 68: Prediction = 1, Label = 1\n",
      "Example Image 69: Prediction = 1, Label = 1\n",
<<<<<<< HEAD
      "Example Image 70: Prediction = 1, Label = 1\n",
      "Example Image 71: Prediction = 1, Label = 1\n",
      "Example Image 72: Prediction = 1, Label = 1\n",
      "Example Image 73: Prediction = 1, Label = 1\n",
      "Example Image 74: Prediction = 1, Label = 1\n",
      "Example Image 75: Prediction = 1, Label = 1\n",
      "Example Image 76: Prediction = 0, Label = 1\n",
      "Example Image 77: Prediction = 0, Label = 1\n",
      "Example Image 78: Prediction = 0, Label = 1\n",
      "Example Image 79: Prediction = 0, Label = 1\n",
      "Example Image 80: Prediction = 1, Label = 1\n",
      "Example Image 81: Prediction = 1, Label = 1\n",
      "Example Image 82: Prediction = 0, Label = 1\n",
      "Example Image 83: Prediction = 1, Label = 1\n",
      "Example Image 84: Prediction = 1, Label = 1\n",
      "Example Image 85: Prediction = 1, Label = 1\n",
      "Example Image 86: Prediction = 0, Label = 1\n",
      "Example Image 87: Prediction = 0, Label = 1\n",
      "Example Image 88: Prediction = 1, Label = 1\n",
=======
      "Example Image 70: Prediction = 0, Label = 1\n",
      "Example Image 71: Prediction = 1, Label = 1\n",
      "Example Image 72: Prediction = 0, Label = 1\n",
      "Example Image 73: Prediction = 1, Label = 1\n",
      "Example Image 74: Prediction = 1, Label = 1\n",
      "Example Image 75: Prediction = 1, Label = 1\n",
      "Example Image 76: Prediction = 1, Label = 1\n",
      "Example Image 77: Prediction = 1, Label = 1\n",
      "Example Image 78: Prediction = 1, Label = 1\n",
      "Example Image 79: Prediction = 0, Label = 1\n",
      "Example Image 80: Prediction = 0, Label = 1\n",
      "Example Image 81: Prediction = 0, Label = 1\n",
      "Example Image 82: Prediction = 0, Label = 1\n",
      "Example Image 83: Prediction = 0, Label = 1\n",
      "Example Image 84: Prediction = 0, Label = 1\n",
      "Example Image 85: Prediction = 0, Label = 1\n",
      "Example Image 86: Prediction = 0, Label = 1\n",
      "Example Image 87: Prediction = 0, Label = 1\n",
      "Example Image 88: Prediction = 0, Label = 1\n",
>>>>>>> origin
      "Example Image 89: Prediction = 1, Label = 1\n",
      "Example Image 90: Prediction = 1, Label = 1\n",
      "Example Image 91: Prediction = 1, Label = 1\n",
      "Example Image 92: Prediction = 1, Label = 1\n",
      "Example Image 93: Prediction = 1, Label = 1\n",
<<<<<<< HEAD
      "Example Image 94: Prediction = 0, Label = 1\n",
      "Example Image 95: Prediction = 1, Label = 1\n",
      "Example Image 96: Prediction = 0, Label = 1\n",
=======
      "Example Image 94: Prediction = 1, Label = 1\n",
      "Example Image 95: Prediction = 1, Label = 1\n",
      "Example Image 96: Prediction = 1, Label = 1\n",
>>>>>>> origin
      "Example Image 97: Prediction = 0, Label = 1\n",
      "Example Image 98: Prediction = 0, Label = 1\n",
      "Example Image 99: Prediction = 0, Label = 1\n",
      "Example Image 100: Prediction = 0, Label = 1\n",
      "Example Image 101: Prediction = 0, Label = 1\n",
      "Example Image 102: Prediction = 0, Label = 1\n",
<<<<<<< HEAD
      "Example Image 103: Prediction = 0, Label = 1\n",
      "Example Image 104: Prediction = 0, Label = 1\n",
      "Example Image 105: Prediction = 0, Label = 1\n",
      "Example Image 106: Prediction = 1, Label = 1\n",
      "Example Image 107: Prediction = 1, Label = 1\n",
      "Example Image 108: Prediction = 0, Label = 1\n",
      "Example Image 109: Prediction = 0, Label = 1\n",
=======
      "Example Image 103: Prediction = 1, Label = 1\n",
      "Example Image 104: Prediction = 1, Label = 1\n",
      "Example Image 105: Prediction = 1, Label = 1\n",
      "Example Image 106: Prediction = 0, Label = 1\n",
      "Example Image 107: Prediction = 0, Label = 1\n",
      "Example Image 108: Prediction = 0, Label = 1\n",
      "Example Image 109: Prediction = 1, Label = 1\n",
>>>>>>> origin
      "Example Image 110: Prediction = 1, Label = 1\n",
      "Example Image 111: Prediction = 1, Label = 1\n",
      "Example Image 112: Prediction = 1, Label = 1\n",
      "Example Image 113: Prediction = 1, Label = 1\n",
      "Example Image 114: Prediction = 1, Label = 1\n",
      "Example Image 115: Prediction = 1, Label = 1\n",
      "Example Image 116: Prediction = 1, Label = 1\n",
      "Example Image 117: Prediction = 1, Label = 1\n",
      "Example Image 118: Prediction = 1, Label = 1\n",
      "Example Image 119: Prediction = 1, Label = 1\n",
      "Example Image 120: Prediction = 1, Label = 1\n",
      "Example Image 121: Prediction = 1, Label = 1\n",
      "Example Image 122: Prediction = 1, Label = 1\n",
      "Example Image 123: Prediction = 1, Label = 1\n",
      "Example Image 124: Prediction = 1, Label = 1\n",
<<<<<<< HEAD
      "Example Image 125: Prediction = 0, Label = 1\n",
=======
      "Example Image 125: Prediction = 1, Label = 1\n",
>>>>>>> origin
      "Example Image 126: Prediction = 1, Label = 1\n",
      "Example Image 127: Prediction = 0, Label = 1\n",
      "Example Image 128: Prediction = 0, Label = 1\n",
      "Example Image 129: Prediction = 0, Label = 1\n",
      "Example Image 130: Prediction = 0, Label = 1\n",
      "Example Image 131: Prediction = 1, Label = 1\n",
      "Example Image 132: Prediction = 1, Label = 1\n",
      "Example Image 133: Prediction = 1, Label = 1\n",
      "Example Image 134: Prediction = 1, Label = 1\n",
      "Example Image 135: Prediction = 1, Label = 1\n",
      "Example Image 136: Prediction = 1, Label = 1\n",
<<<<<<< HEAD
      "Example Image 137: Prediction = 0, Label = 1\n",
      "Example Image 138: Prediction = 0, Label = 1\n",
      "Example Image 139: Prediction = 0, Label = 1\n",
=======
      "Example Image 137: Prediction = 1, Label = 1\n",
      "Example Image 138: Prediction = 1, Label = 1\n",
      "Example Image 139: Prediction = 1, Label = 1\n",
>>>>>>> origin
      "Example Image 140: Prediction = 1, Label = 1\n",
      "Example Image 141: Prediction = 1, Label = 1\n",
      "Example Image 142: Prediction = 1, Label = 1\n",
      "Example Image 143: Prediction = 1, Label = 1\n",
      "Example Image 144: Prediction = 1, Label = 1\n",
<<<<<<< HEAD
      "Example Image 145: Prediction = 0, Label = 1\n",
      "Example Image 146: Prediction = 1, Label = 1\n",
      "Example Image 147: Prediction = 1, Label = 1\n",
      "Example Image 148: Prediction = 0, Label = 1\n",
=======
      "Example Image 145: Prediction = 1, Label = 1\n",
      "Example Image 146: Prediction = 1, Label = 1\n",
      "Example Image 147: Prediction = 1, Label = 1\n",
      "Example Image 148: Prediction = 1, Label = 1\n",
>>>>>>> origin
      "Example Image 149: Prediction = 1, Label = 1\n",
      "Example Image 150: Prediction = 1, Label = 1\n",
      "Example Image 151: Prediction = 0, Label = 1\n",
      "Example Image 152: Prediction = 0, Label = 1\n",
      "Example Image 153: Prediction = 0, Label = 1\n",
<<<<<<< HEAD
      "Example Image 154: Prediction = 1, Label = 1\n",
      "Example Image 155: Prediction = 0, Label = 1\n",
      "Example Image 156: Prediction = 0, Label = 1\n",
      "Example Image 157: Prediction = 1, Label = 1\n",
      "Example Image 158: Prediction = 1, Label = 1\n",
=======
      "Example Image 154: Prediction = 0, Label = 1\n",
      "Example Image 155: Prediction = 0, Label = 1\n",
      "Example Image 156: Prediction = 0, Label = 1\n",
      "Example Image 157: Prediction = 1, Label = 1\n",
      "Example Image 158: Prediction = 0, Label = 1\n",
>>>>>>> origin
      "Example Image 159: Prediction = 1, Label = 1\n",
      "Example Image 160: Prediction = 1, Label = 1\n",
      "Example Image 161: Prediction = 1, Label = 1\n",
      "Example Image 162: Prediction = 1, Label = 1\n",
<<<<<<< HEAD
      "Example Image 163: Prediction = 1, Label = 1\n",
      "Example Image 164: Prediction = 1, Label = 1\n",
      "Example Image 165: Prediction = 1, Label = 1\n",
      "Example Image 166: Prediction = 1, Label = 1\n",
      "Example Image 167: Prediction = 1, Label = 1\n",
      "Example Image 168: Prediction = 1, Label = 1\n",
      "Example Image 169: Prediction = 1, Label = 1\n",
      "Example Image 170: Prediction = 1, Label = 1\n",
      "Example Image 171: Prediction = 1, Label = 1\n",
      "Example Image 172: Prediction = 1, Label = 1\n",
      "Example Image 173: Prediction = 0, Label = 1\n",
      "Example Image 174: Prediction = 1, Label = 1\n",
      "Example Image 175: Prediction = 0, Label = 1\n",
      "Example Image 176: Prediction = 1, Label = 1\n",
      "Example Image 177: Prediction = 1, Label = 1\n",
      "Example Image 178: Prediction = 1, Label = 1\n",
=======
      "Example Image 163: Prediction = 0, Label = 1\n",
      "Example Image 164: Prediction = 1, Label = 1\n",
      "Example Image 165: Prediction = 0, Label = 1\n",
      "Example Image 166: Prediction = 0, Label = 1\n",
      "Example Image 167: Prediction = 0, Label = 1\n",
      "Example Image 168: Prediction = 0, Label = 1\n",
      "Example Image 169: Prediction = 1, Label = 1\n",
      "Example Image 170: Prediction = 1, Label = 1\n",
      "Example Image 171: Prediction = 1, Label = 1\n",
      "Example Image 172: Prediction = 0, Label = 1\n",
      "Example Image 173: Prediction = 0, Label = 1\n",
      "Example Image 174: Prediction = 1, Label = 1\n",
      "Example Image 175: Prediction = 1, Label = 1\n",
      "Example Image 176: Prediction = 0, Label = 1\n",
      "Example Image 177: Prediction = 0, Label = 1\n",
      "Example Image 178: Prediction = 0, Label = 1\n",
>>>>>>> origin
      "Example Image 179: Prediction = 1, Label = 1\n",
      "Example Image 180: Prediction = 1, Label = 1\n",
      "Example Image 181: Prediction = 1, Label = 1\n",
      "Example Image 182: Prediction = 1, Label = 1\n",
      "Example Image 183: Prediction = 1, Label = 1\n",
      "Example Image 184: Prediction = 0, Label = 1\n",
<<<<<<< HEAD
      "Example Image 185: Prediction = 1, Label = 1\n",
      "Example Image 186: Prediction = 0, Label = 1\n",
      "Example Image 187: Prediction = 0, Label = 1\n",
      "Example Image 188: Prediction = 0, Label = 1\n",
=======
      "Example Image 185: Prediction = 0, Label = 1\n",
      "Example Image 186: Prediction = 1, Label = 1\n",
      "Example Image 187: Prediction = 1, Label = 1\n",
      "Example Image 188: Prediction = 1, Label = 1\n",
>>>>>>> origin
      "Example Image 189: Prediction = 1, Label = 1\n",
      "Example Image 190: Prediction = 1, Label = 1\n",
      "Example Image 191: Prediction = 1, Label = 1\n",
      "Example Image 192: Prediction = 1, Label = 1\n",
      "Example Image 193: Prediction = 1, Label = 1\n",
      "Example Image 194: Prediction = 1, Label = 1\n",
      "Example Image 195: Prediction = 1, Label = 1\n",
      "Example Image 196: Prediction = 1, Label = 1\n",
      "Example Image 197: Prediction = 1, Label = 1\n",
      "Example Image 198: Prediction = 1, Label = 1\n",
      "Example Image 199: Prediction = 1, Label = 1\n",
      "Example Image 200: Prediction = 1, Label = 1\n",
      "Example Image 201: Prediction = 1, Label = 1\n",
      "Example Image 202: Prediction = 1, Label = 1\n",
      "Example Image 203: Prediction = 1, Label = 1\n",
      "Example Image 204: Prediction = 1, Label = 1\n",
      "Example Image 205: Prediction = 1, Label = 1\n",
      "Example Image 206: Prediction = 1, Label = 1\n",
      "Example Image 207: Prediction = 1, Label = 1\n",
      "Example Image 208: Prediction = 1, Label = 1\n",
      "Example Image 209: Prediction = 1, Label = 1\n",
      "Example Image 210: Prediction = 1, Label = 1\n",
<<<<<<< HEAD
      "Example Image 211: Prediction = 0, Label = 1\n",
      "Example Image 212: Prediction = 1, Label = 1\n",
      "Example Image 213: Prediction = 1, Label = 1\n",
      "Example Image 214: Prediction = 1, Label = 1\n",
      "Example Image 215: Prediction = 1, Label = 1\n",
      "Example Image 216: Prediction = 1, Label = 1\n",
      "Example Image 217: Prediction = 0, Label = 1\n",
      "Example Image 218: Prediction = 0, Label = 1\n",
      "Example Image 219: Prediction = 1, Label = 1\n",
=======
      "Example Image 211: Prediction = 1, Label = 1\n",
      "Example Image 212: Prediction = 1, Label = 1\n",
      "Example Image 213: Prediction = 1, Label = 1\n",
      "Example Image 214: Prediction = 1, Label = 1\n",
      "Example Image 215: Prediction = 0, Label = 1\n",
      "Example Image 216: Prediction = 1, Label = 1\n",
      "Example Image 217: Prediction = 0, Label = 1\n",
      "Example Image 218: Prediction = 0, Label = 1\n",
      "Example Image 219: Prediction = 0, Label = 1\n",
>>>>>>> origin
      "Example Image 220: Prediction = 1, Label = 1\n",
      "Example Image 221: Prediction = 1, Label = 1\n",
      "Example Image 222: Prediction = 1, Label = 1\n",
      "Example Image 223: Prediction = 1, Label = 1\n",
<<<<<<< HEAD
      "Example Image 224: Prediction = 0, Label = 1\n",
=======
      "Example Image 224: Prediction = 1, Label = 1\n",
>>>>>>> origin
      "Example Image 225: Prediction = 1, Label = 1\n",
      "Example Image 226: Prediction = 1, Label = 1\n",
      "Example Image 227: Prediction = 1, Label = 1\n",
      "Example Image 228: Prediction = 1, Label = 1\n",
<<<<<<< HEAD
      "Example Image 229: Prediction = 1, Label = 1\n",
      "Example Image 230: Prediction = 1, Label = 1\n",
      "Example Image 231: Prediction = 1, Label = 1\n",
      "Example Image 232: Prediction = 1, Label = 1\n",
      "Example Image 233: Prediction = 1, Label = 1\n",
      "Example Image 234: Prediction = 0, Label = 1\n",
      "Example Image 235: Prediction = 1, Label = 1\n",
      "Example Image 236: Prediction = 1, Label = 1\n",
      "Example Image 237: Prediction = 1, Label = 1\n",
      "Example Image 238: Prediction = 0, Label = 1\n",
=======
      "Example Image 229: Prediction = 0, Label = 1\n",
      "Example Image 230: Prediction = 0, Label = 1\n",
      "Example Image 231: Prediction = 0, Label = 1\n",
      "Example Image 232: Prediction = 1, Label = 1\n",
      "Example Image 233: Prediction = 1, Label = 1\n",
      "Example Image 234: Prediction = 1, Label = 1\n",
      "Example Image 235: Prediction = 1, Label = 1\n",
      "Example Image 236: Prediction = 1, Label = 1\n",
      "Example Image 237: Prediction = 1, Label = 1\n",
      "Example Image 238: Prediction = 1, Label = 1\n",
>>>>>>> origin
      "Example Image 239: Prediction = 1, Label = 1\n",
      "Example Image 240: Prediction = 1, Label = 1\n",
      "Example Image 241: Prediction = 1, Label = 1\n",
      "Example Image 242: Prediction = 1, Label = 1\n",
      "Example Image 243: Prediction = 0, Label = 1\n",
<<<<<<< HEAD
      "Example Image 244: Prediction = 1, Label = 1\n",
=======
      "Example Image 244: Prediction = 0, Label = 1\n",
>>>>>>> origin
      "Example Image 245: Prediction = 1, Label = 1\n",
      "Example Image 246: Prediction = 1, Label = 1\n",
      "Example Image 247: Prediction = 1, Label = 1\n",
      "Example Image 248: Prediction = 1, Label = 1\n",
      "Example Image 249: Prediction = 1, Label = 1\n",
      "Example Image 250: Prediction = 1, Label = 1\n",
      "Example Image 251: Prediction = 1, Label = 1\n",
      "Example Image 252: Prediction = 1, Label = 1\n",
      "Example Image 253: Prediction = 1, Label = 1\n",
      "Example Image 254: Prediction = 1, Label = 1\n",
      "Example Image 255: Prediction = 1, Label = 1\n",
      "Example Image 256: Prediction = 1, Label = 1\n",
      "Example Image 257: Prediction = 1, Label = 1\n",
      "Example Image 258: Prediction = 1, Label = 1\n",
<<<<<<< HEAD
      "Example Image 259: Prediction = 1, Label = 1\n",
=======
      "Example Image 259: Prediction = 0, Label = 1\n",
>>>>>>> origin
      "Example Image 260: Prediction = 1, Label = 1\n",
      "Example Image 261: Prediction = 1, Label = 1\n",
      "Example Image 262: Prediction = 1, Label = 1\n",
      "Example Image 263: Prediction = 1, Label = 1\n",
      "Example Image 264: Prediction = 1, Label = 1\n",
      "Example Image 265: Prediction = 1, Label = 1\n",
      "Example Image 266: Prediction = 1, Label = 1\n",
<<<<<<< HEAD
      "Example Image 267: Prediction = 1, Label = 1\n",
      "Example Image 268: Prediction = 1, Label = 1\n",
      "Example Image 269: Prediction = 1, Label = 1\n",
      "Example Image 270: Prediction = 1, Label = 1\n",
=======
      "Example Image 267: Prediction = 0, Label = 1\n",
      "Example Image 268: Prediction = 1, Label = 1\n",
      "Example Image 269: Prediction = 1, Label = 1\n",
      "Example Image 270: Prediction = 0, Label = 1\n",
>>>>>>> origin
      "Example Image 271: Prediction = 1, Label = 1\n",
      "Example Image 272: Prediction = 1, Label = 1\n",
      "Example Image 273: Prediction = 1, Label = 1\n",
      "Example Image 274: Prediction = 1, Label = 1\n",
      "Example Image 275: Prediction = 1, Label = 1\n",
      "Example Image 276: Prediction = 1, Label = 1\n",
      "Example Image 277: Prediction = 0, Label = 1\n",
<<<<<<< HEAD
      "Example Image 278: Prediction = 1, Label = 1\n",
      "Example Image 279: Prediction = 1, Label = 1\n",
      "Example Image 280: Prediction = 1, Label = 1\n",
      "Example Image 281: Prediction = 0, Label = 1\n",
=======
      "Example Image 278: Prediction = 0, Label = 1\n",
      "Example Image 279: Prediction = 1, Label = 1\n",
      "Example Image 280: Prediction = 1, Label = 1\n",
      "Example Image 281: Prediction = 1, Label = 1\n",
>>>>>>> origin
      "Example Image 282: Prediction = 1, Label = 1\n",
      "Example Image 283: Prediction = 1, Label = 1\n",
      "Example Image 284: Prediction = 1, Label = 1\n",
      "Example Image 285: Prediction = 1, Label = 1\n",
      "Example Image 286: Prediction = 1, Label = 1\n",
      "Example Image 287: Prediction = 0, Label = 1\n",
<<<<<<< HEAD
      "Example Image 288: Prediction = 1, Label = 1\n",
      "Example Image 289: Prediction = 1, Label = 1\n",
      "Example Image 290: Prediction = 0, Label = 1\n",
      "Example Image 291: Prediction = 0, Label = 1\n",
      "Example Image 292: Prediction = 0, Label = 1\n",
      "Example Image 293: Prediction = 0, Label = 1\n",
      "Example Image 294: Prediction = 0, Label = 1\n",
      "Example Image 295: Prediction = 0, Label = 1\n",
      "Example Image 296: Prediction = 0, Label = 1\n",
      "Example Image 297: Prediction = 0, Label = 1\n",
=======
      "Example Image 288: Prediction = 0, Label = 1\n",
      "Example Image 289: Prediction = 1, Label = 1\n",
      "Example Image 290: Prediction = 0, Label = 1\n",
      "Example Image 291: Prediction = 0, Label = 1\n",
      "Example Image 292: Prediction = 1, Label = 1\n",
      "Example Image 293: Prediction = 1, Label = 1\n",
      "Example Image 294: Prediction = 1, Label = 1\n",
      "Example Image 295: Prediction = 0, Label = 1\n",
      "Example Image 296: Prediction = 0, Label = 1\n",
      "Example Image 297: Prediction = 1, Label = 1\n",
>>>>>>> origin
      "Example Image 298: Prediction = 1, Label = 1\n",
      "Example Image 299: Prediction = 1, Label = 1\n",
      "Example Image 300: Prediction = 0, Label = 1\n",
      "Example Image 301: Prediction = 0, Label = 1\n",
      "Example Image 302: Prediction = 1, Label = 1\n",
      "Example Image 303: Prediction = 1, Label = 1\n",
<<<<<<< HEAD
      "Example Image 304: Prediction = 1, Label = 1\n",
      "Example Image 305: Prediction = 0, Label = 1\n",
      "Example Image 306: Prediction = 1, Label = 1\n",
      "Example Image 307: Prediction = 1, Label = 1\n",
      "Example Image 308: Prediction = 1, Label = 1\n",
      "Example Image 309: Prediction = 0, Label = 1\n",
      "Example Image 310: Prediction = 0, Label = 1\n",
      "Example Image 311: Prediction = 1, Label = 1\n",
      "Example Image 312: Prediction = 1, Label = 1\n",
      "Example Image 313: Prediction = 0, Label = 1\n",
      "Example Image 314: Prediction = 1, Label = 1\n",
      "Example Image 315: Prediction = 1, Label = 1\n",
      "Example Image 316: Prediction = 1, Label = 1\n",
      "Example Image 317: Prediction = 1, Label = 1\n",
      "Example Image 318: Prediction = 1, Label = 1\n",
=======
      "Example Image 304: Prediction = 0, Label = 1\n",
      "Example Image 305: Prediction = 1, Label = 1\n",
      "Example Image 306: Prediction = 1, Label = 1\n",
      "Example Image 307: Prediction = 1, Label = 1\n",
      "Example Image 308: Prediction = 0, Label = 1\n",
      "Example Image 309: Prediction = 0, Label = 1\n",
      "Example Image 310: Prediction = 0, Label = 1\n",
      "Example Image 311: Prediction = 1, Label = 1\n",
      "Example Image 312: Prediction = 0, Label = 1\n",
      "Example Image 313: Prediction = 0, Label = 1\n",
      "Example Image 314: Prediction = 1, Label = 1\n",
      "Example Image 315: Prediction = 0, Label = 1\n",
      "Example Image 316: Prediction = 0, Label = 1\n",
      "Example Image 317: Prediction = 0, Label = 1\n",
      "Example Image 318: Prediction = 0, Label = 1\n",
>>>>>>> origin
      "Example Image 319: Prediction = 1, Label = 1\n",
      "Example Image 320: Prediction = 1, Label = 1\n",
      "Example Image 321: Prediction = 1, Label = 1\n",
      "Example Image 322: Prediction = 1, Label = 1\n",
      "Example Image 323: Prediction = 1, Label = 1\n",
      "Example Image 324: Prediction = 1, Label = 1\n",
      "Example Image 325: Prediction = 1, Label = 1\n",
      "Example Image 326: Prediction = 1, Label = 1\n",
      "Example Image 327: Prediction = 1, Label = 1\n",
      "Example Image 328: Prediction = 1, Label = 1\n",
      "Example Image 329: Prediction = 1, Label = 1\n",
      "Example Image 330: Prediction = 1, Label = 1\n",
      "Example Image 331: Prediction = 1, Label = 1\n",
      "Example Image 332: Prediction = 0, Label = 1\n",
      "Example Image 333: Prediction = 0, Label = 1\n",
      "Example Image 334: Prediction = 0, Label = 1\n",
<<<<<<< HEAD
      "Example Image 335: Prediction = 0, Label = 1\n",
=======
      "Example Image 335: Prediction = 1, Label = 1\n",
>>>>>>> origin
      "Example Image 336: Prediction = 1, Label = 1\n",
      "Example Image 337: Prediction = 1, Label = 1\n",
      "Example Image 338: Prediction = 1, Label = 1\n",
      "Example Image 339: Prediction = 1, Label = 1\n",
      "Example Image 340: Prediction = 1, Label = 1\n",
      "Example Image 341: Prediction = 1, Label = 1\n",
      "Example Image 342: Prediction = 1, Label = 1\n",
      "Example Image 343: Prediction = 1, Label = 1\n",
      "Example Image 344: Prediction = 1, Label = 1\n",
      "Example Image 345: Prediction = 1, Label = 1\n",
      "Example Image 346: Prediction = 1, Label = 1\n",
<<<<<<< HEAD
      "Example Image 347: Prediction = 0, Label = 1\n",
      "Example Image 348: Prediction = 1, Label = 1\n",
      "Example Image 349: Prediction = 1, Label = 1\n",
      "Example Image 350: Prediction = 1, Label = 1\n",
      "Example Image 351: Prediction = 1, Label = 1\n",
      "Example Image 352: Prediction = 1, Label = 1\n",
      "Example Image 353: Prediction = 0, Label = 1\n",
      "Example Image 354: Prediction = 1, Label = 1\n",
      "Example Image 355: Prediction = 0, Label = 1\n",
      "Example Image 356: Prediction = 1, Label = 1\n",
      "Example Image 357: Prediction = 1, Label = 1\n",
      "Example Image 358: Prediction = 0, Label = 1\n",
      "Example Image 359: Prediction = 1, Label = 1\n",
      "Example Image 360: Prediction = 0, Label = 1\n",
      "Example Image 361: Prediction = 1, Label = 1\n",
      "Example Image 362: Prediction = 1, Label = 1\n",
      "Example Image 363: Prediction = 0, Label = 1\n",
=======
      "Example Image 347: Prediction = 1, Label = 1\n",
      "Example Image 348: Prediction = 0, Label = 1\n",
      "Example Image 349: Prediction = 0, Label = 1\n",
      "Example Image 350: Prediction = 0, Label = 1\n",
      "Example Image 351: Prediction = 1, Label = 1\n",
      "Example Image 352: Prediction = 1, Label = 1\n",
      "Example Image 353: Prediction = 1, Label = 1\n",
      "Example Image 354: Prediction = 1, Label = 1\n",
      "Example Image 355: Prediction = 1, Label = 1\n",
      "Example Image 356: Prediction = 1, Label = 1\n",
      "Example Image 357: Prediction = 1, Label = 1\n",
      "Example Image 358: Prediction = 1, Label = 1\n",
      "Example Image 359: Prediction = 1, Label = 1\n",
      "Example Image 360: Prediction = 1, Label = 1\n",
      "Example Image 361: Prediction = 1, Label = 1\n",
      "Example Image 362: Prediction = 1, Label = 1\n",
      "Example Image 363: Prediction = 1, Label = 1\n",
>>>>>>> origin
      "Example Image 364: Prediction = 1, Label = 1\n",
      "Example Image 365: Prediction = 1, Label = 1\n",
      "Example Image 366: Prediction = 1, Label = 1\n",
      "Example Image 367: Prediction = 1, Label = 1\n",
<<<<<<< HEAD
      "Example Image 368: Prediction = 0, Label = 1\n",
      "Example Image 369: Prediction = 1, Label = 1\n",
      "Example Image 370: Prediction = 1, Label = 1\n",
      "Example Image 371: Prediction = 0, Label = 1\n",
      "Example Image 372: Prediction = 1, Label = 1\n",
      "Example Image 373: Prediction = 1, Label = 1\n",
      "Example Image 374: Prediction = 0, Label = 1\n",
=======
      "Example Image 368: Prediction = 1, Label = 1\n",
      "Example Image 369: Prediction = 1, Label = 1\n",
      "Example Image 370: Prediction = 1, Label = 1\n",
      "Example Image 371: Prediction = 1, Label = 1\n",
      "Example Image 372: Prediction = 1, Label = 1\n",
      "Example Image 373: Prediction = 1, Label = 1\n",
      "Example Image 374: Prediction = 1, Label = 1\n",
>>>>>>> origin
      "Example Image 375: Prediction = 1, Label = 1\n",
      "Example Image 376: Prediction = 1, Label = 1\n",
      "Example Image 377: Prediction = 1, Label = 1\n",
      "Example Image 378: Prediction = 1, Label = 1\n",
      "Example Image 379: Prediction = 1, Label = 1\n",
      "Example Image 380: Prediction = 1, Label = 1\n",
      "Example Image 381: Prediction = 1, Label = 1\n",
      "Example Image 382: Prediction = 1, Label = 1\n",
<<<<<<< HEAD
      "Example Image 383: Prediction = 0, Label = 1\n",
      "Example Image 384: Prediction = 1, Label = 1\n",
      "Example Image 385: Prediction = 0, Label = 1\n",
      "Example Image 386: Prediction = 1, Label = 1\n",
      "Example Image 387: Prediction = 0, Label = 1\n",
=======
      "Example Image 383: Prediction = 1, Label = 1\n",
      "Example Image 384: Prediction = 1, Label = 1\n",
      "Example Image 385: Prediction = 1, Label = 1\n",
      "Example Image 386: Prediction = 1, Label = 1\n",
      "Example Image 387: Prediction = 1, Label = 1\n",
>>>>>>> origin
      "Example Image 388: Prediction = 1, Label = 1\n",
      "Example Image 389: Prediction = 0, Label = 1\n",
      "Example Image 390: Prediction = 0, Label = 1\n",
      "Example Image 391: Prediction = 1, Label = 1\n",
      "Example Image 392: Prediction = 1, Label = 1\n",
      "Example Image 393: Prediction = 1, Label = 1\n",
      "Example Image 394: Prediction = 1, Label = 1\n",
<<<<<<< HEAD
      "Example Image 395: Prediction = 0, Label = 1\n",
      "Example Image 396: Prediction = 1, Label = 1\n",
      "Example Image 397: Prediction = 1, Label = 1\n",
      "Example Image 398: Prediction = 0, Label = 1\n",
=======
      "Example Image 395: Prediction = 1, Label = 1\n",
      "Example Image 396: Prediction = 1, Label = 1\n",
      "Example Image 397: Prediction = 1, Label = 1\n",
      "Example Image 398: Prediction = 1, Label = 1\n",
>>>>>>> origin
      "Example Image 399: Prediction = 1, Label = 1\n",
      "Example Image 400: Prediction = 1, Label = 1\n",
      "Example Image 401: Prediction = 1, Label = 1\n",
      "Example Image 402: Prediction = 1, Label = 1\n",
      "Example Image 403: Prediction = 1, Label = 1\n",
      "Example Image 404: Prediction = 1, Label = 1\n",
      "Example Image 405: Prediction = 1, Label = 1\n",
      "Example Image 406: Prediction = 1, Label = 1\n",
      "Example Image 407: Prediction = 1, Label = 1\n",
      "Example Image 408: Prediction = 1, Label = 1\n",
      "Example Image 409: Prediction = 1, Label = 1\n",
      "Example Image 410: Prediction = 1, Label = 1\n",
      "Example Image 411: Prediction = 1, Label = 1\n",
      "Example Image 412: Prediction = 1, Label = 1\n",
      "Example Image 413: Prediction = 1, Label = 1\n",
      "Example Image 414: Prediction = 1, Label = 1\n",
<<<<<<< HEAD
      "Example Image 415: Prediction = 1, Label = 1\n",
      "Example Image 416: Prediction = 1, Label = 1\n",
      "Example Image 417: Prediction = 1, Label = 1\n",
      "Example Image 418: Prediction = 1, Label = 1\n",
      "Example Image 419: Prediction = 0, Label = 1\n",
=======
      "Example Image 415: Prediction = 0, Label = 1\n",
      "Example Image 416: Prediction = 1, Label = 1\n",
      "Example Image 417: Prediction = 1, Label = 1\n",
      "Example Image 418: Prediction = 1, Label = 1\n",
      "Example Image 419: Prediction = 1, Label = 1\n",
>>>>>>> origin
      "Example Image 420: Prediction = 1, Label = 1\n",
      "Example Image 421: Prediction = 0, Label = 1\n",
      "Example Image 422: Prediction = 1, Label = 1\n",
      "Example Image 423: Prediction = 1, Label = 1\n",
      "Example Image 424: Prediction = 1, Label = 1\n",
      "Example Image 425: Prediction = 1, Label = 1\n",
      "Example Image 426: Prediction = 0, Label = 1\n",
      "Example Image 427: Prediction = 1, Label = 1\n",
      "Example Image 428: Prediction = 1, Label = 1\n",
      "Example Image 429: Prediction = 1, Label = 1\n",
      "Example Image 430: Prediction = 1, Label = 1\n",
      "Example Image 431: Prediction = 1, Label = 1\n",
      "Example Image 432: Prediction = 1, Label = 1\n",
<<<<<<< HEAD
      "Example Image 433: Prediction = 0, Label = 1\n",
      "Example Image 434: Prediction = 1, Label = 1\n",
      "Example Image 435: Prediction = 1, Label = 1\n",
      "Example Image 436: Prediction = 0, Label = 1\n",
      "Example Image 437: Prediction = 0, Label = 1\n",
      "Example Image 438: Prediction = 1, Label = 1\n",
      "Example Image 439: Prediction = 0, Label = 1\n",
=======
      "Example Image 433: Prediction = 1, Label = 1\n",
      "Example Image 434: Prediction = 1, Label = 1\n",
      "Example Image 435: Prediction = 0, Label = 1\n",
      "Example Image 436: Prediction = 0, Label = 1\n",
      "Example Image 437: Prediction = 1, Label = 1\n",
      "Example Image 438: Prediction = 1, Label = 1\n",
      "Example Image 439: Prediction = 1, Label = 1\n",
>>>>>>> origin
      "Example Image 440: Prediction = 1, Label = 1\n",
      "Example Image 441: Prediction = 1, Label = 1\n",
      "Example Image 442: Prediction = 1, Label = 1\n",
      "Example Image 443: Prediction = 1, Label = 1\n",
<<<<<<< HEAD
      "Example Image 444: Prediction = 1, Label = 1\n",
=======
      "Example Image 444: Prediction = 0, Label = 1\n",
>>>>>>> origin
      "Example Image 445: Prediction = 1, Label = 1\n",
      "Example Image 446: Prediction = 0, Label = 1\n",
      "Example Image 447: Prediction = 0, Label = 1\n",
      "Example Image 448: Prediction = 0, Label = 1\n",
<<<<<<< HEAD
      "Example Image 449: Prediction = 1, Label = 1\n",
      "Example Image 450: Prediction = 0, Label = 1\n",
      "Example Image 451: Prediction = 0, Label = 1\n",
      "Example Image 452: Prediction = 1, Label = 1\n",
      "Example Image 453: Prediction = 1, Label = 1\n",
      "Example Image 454: Prediction = 0, Label = 1\n",
=======
      "Example Image 449: Prediction = 0, Label = 1\n",
      "Example Image 450: Prediction = 0, Label = 1\n",
      "Example Image 451: Prediction = 0, Label = 1\n",
      "Example Image 452: Prediction = 1, Label = 1\n",
      "Example Image 453: Prediction = 0, Label = 1\n",
      "Example Image 454: Prediction = 1, Label = 1\n",
>>>>>>> origin
      "Example Image 455: Prediction = 1, Label = 1\n",
      "Example Image 456: Prediction = 1, Label = 1\n",
      "Example Image 457: Prediction = 1, Label = 1\n",
      "Example Image 458: Prediction = 1, Label = 1\n",
      "Example Image 459: Prediction = 1, Label = 1\n",
      "Example Image 460: Prediction = 1, Label = 1\n",
      "Example Image 461: Prediction = 1, Label = 1\n",
<<<<<<< HEAD
      "Example Image 462: Prediction = 0, Label = 1\n",
      "Example Image 463: Prediction = 1, Label = 1\n",
      "Example Image 464: Prediction = 0, Label = 1\n",
=======
      "Example Image 462: Prediction = 1, Label = 1\n",
      "Example Image 463: Prediction = 1, Label = 1\n",
      "Example Image 464: Prediction = 1, Label = 1\n",
>>>>>>> origin
      "Example Image 465: Prediction = 1, Label = 1\n",
      "Example Image 466: Prediction = 1, Label = 1\n",
      "Example Image 467: Prediction = 1, Label = 1\n",
      "Example Image 468: Prediction = 0, Label = 1\n",
<<<<<<< HEAD
      "Example Image 469: Prediction = 0, Label = 1\n",
      "Example Image 470: Prediction = 1, Label = 1\n",
      "Example Image 471: Prediction = 0, Label = 1\n",
      "Example Image 472: Prediction = 1, Label = 1\n",
      "Example Image 473: Prediction = 1, Label = 1\n",
      "Example Image 474: Prediction = 1, Label = 1\n",
      "Example Image 475: Prediction = 1, Label = 1\n",
      "Example Image 476: Prediction = 1, Label = 1\n",
      "Example Image 477: Prediction = 1, Label = 1\n",
      "Example Image 478: Prediction = 0, Label = 1\n",
      "Example Image 479: Prediction = 0, Label = 1\n",
      "Example Image 480: Prediction = 0, Label = 1\n",
      "Example Image 481: Prediction = 1, Label = 1\n",
      "Example Image 482: Prediction = 0, Label = 1\n",
      "Example Image 483: Prediction = 1, Label = 1\n",
      "Example Image 484: Prediction = 1, Label = 1\n",
      "Example Image 485: Prediction = 0, Label = 1\n",
=======
      "Example Image 469: Prediction = 1, Label = 1\n",
      "Example Image 470: Prediction = 1, Label = 1\n",
      "Example Image 471: Prediction = 1, Label = 1\n",
      "Example Image 472: Prediction = 1, Label = 1\n",
      "Example Image 473: Prediction = 0, Label = 1\n",
      "Example Image 474: Prediction = 0, Label = 1\n",
      "Example Image 475: Prediction = 1, Label = 1\n",
      "Example Image 476: Prediction = 1, Label = 1\n",
      "Example Image 477: Prediction = 1, Label = 1\n",
      "Example Image 478: Prediction = 1, Label = 1\n",
      "Example Image 479: Prediction = 0, Label = 1\n",
      "Example Image 480: Prediction = 0, Label = 1\n",
      "Example Image 481: Prediction = 0, Label = 1\n",
      "Example Image 482: Prediction = 0, Label = 1\n",
      "Example Image 483: Prediction = 0, Label = 1\n",
      "Example Image 484: Prediction = 0, Label = 1\n",
      "Example Image 485: Prediction = 1, Label = 1\n",
>>>>>>> origin
      "Example Image 486: Prediction = 0, Label = 1\n",
      "Example Image 487: Prediction = 0, Label = 1\n",
      "Example Image 488: Prediction = 0, Label = 1\n",
      "Example Image 489: Prediction = 0, Label = 1\n",
      "Example Image 490: Prediction = 0, Label = 1\n",
      "Example Image 491: Prediction = 0, Label = 1\n",
      "Example Image 492: Prediction = 1, Label = 1\n",
<<<<<<< HEAD
      "Example Image 493: Prediction = 0, Label = 1\n",
      "Example Image 494: Prediction = 0, Label = 1\n",
      "Example Image 495: Prediction = 0, Label = 1\n",
      "Example Image 496: Prediction = 0, Label = 1\n",
      "Example Image 497: Prediction = 0, Label = 1\n",
      "Example Image 498: Prediction = 0, Label = 1\n",
=======
      "Example Image 493: Prediction = 1, Label = 1\n",
      "Example Image 494: Prediction = 1, Label = 1\n",
      "Example Image 495: Prediction = 1, Label = 1\n",
      "Example Image 496: Prediction = 0, Label = 1\n",
      "Example Image 497: Prediction = 1, Label = 1\n",
      "Example Image 498: Prediction = 1, Label = 1\n",
>>>>>>> origin
      "Example Image 499: Prediction = 0, Label = 1\n"
     ]
    }
   ],
   "source": [
    "y_pred = []\n",
    "\n",
    "for i in range(500):\n",
    "    true_label = y[i]\n",
    "    pred = model.predict(X[i])\n",
    "    y_pred.append(pred)\n",
    "    print(f\"Example Image {i}: Prediction = {pred}, Label = {true_label}\")"
   ]
  },
  {
   "cell_type": "markdown",
   "id": "a0ad139d",
   "metadata": {},
   "source": [
    "<h2>Percentage of correctly predicted values</h2>"
   ]
  },
  {
   "cell_type": "code",
   "execution_count": 36,
   "id": "bf0a0b1e",
   "metadata": {},
   "outputs": [
    {
     "data": {
      "text/plain": [
       "69.4"
      ]
     },
     "execution_count": 36,
     "metadata": {},
     "output_type": "execute_result"
    }
   ],
   "source": [
    "round(y_pred.count(1) / 500 * 100, 2)"
   ]
  },
  {
   "cell_type": "markdown",
   "id": "cd82cdf4",
   "metadata": {},
   "source": [
    "<h2>Percentage of incorrectly predicted values</h2>"
   ]
  },
  {
   "cell_type": "code",
   "execution_count": 37,
   "id": "2bc82ac0",
   "metadata": {},
   "outputs": [
    {
     "data": {
      "text/plain": [
       "30.6"
      ]
     },
     "execution_count": 37,
     "metadata": {},
     "output_type": "execute_result"
    }
   ],
   "source": [
    "round(y_pred.count(0) / 500 * 100, 2)"
   ]
<<<<<<< HEAD
=======
  },
  {
   "cell_type": "markdown",
   "id": "301c5a12",
   "metadata": {},
   "source": [
    "<h2>Alternatives to Robust Haare Algorithm</h2>\n",
    "\n",
    "Several algorithms serve as alternatives to Haar-like features for image-based object detection and classification, each offering different strengths in terms of accuracy, speed, and robustness. One popular alternative is the Histogram of Oriented Gradients (HOG), which captures edge orientation and gradient patterns and is widely used for pedestrian detection due to its robustness to lighting and deformation. Local Binary Patterns (LBP) provide a simple, fast method for capturing local texture by comparing pixel intensities and are often used in face recognition, although they can be sensitive to noise. More advanced techniques like SIFT (Scale-Invariant Feature Transform) and SURF (Speeded-Up Robust Features) extract distinctive keypoints invariant to scale and rotation, making them effective for matching and recognition, though they are computationally heavier than Haar or LBP. Gabor filters, inspired by human visual processing, are excellent for texture and biometric recognition tasks but are computationally intensive. In modern computer vision, Convolutional Neural Networks (CNNs) have largely surpassed traditional hand-crafted features by automatically learning hierarchical representations from data, achieving state-of-the-art performance in detection and classification, albeit requiring significant computational power and training data. Additionally, edge and contour-based features are useful in shape-focused tasks but tend to be less robust to occlusions or noise. Each method offers trade-offs, making the choice of algorithm dependent on the specific application requirements, such as speed, accuracy, and hardware constraints."
   ]
>>>>>>> origin
  }
 ],
 "metadata": {
  "kernelspec": {
<<<<<<< HEAD
   "display_name": "Python 3",
=======
   "display_name": "myenv",
>>>>>>> origin
   "language": "python",
   "name": "python3"
  },
  "language_info": {
   "codemirror_mode": {
    "name": "ipython",
    "version": 3
   },
   "file_extension": ".py",
   "mimetype": "text/x-python",
   "name": "python",
   "nbconvert_exporter": "python",
   "pygments_lexer": "ipython3",
   "version": "3.11.9"
  }
 },
 "nbformat": 4,
 "nbformat_minor": 5
}
